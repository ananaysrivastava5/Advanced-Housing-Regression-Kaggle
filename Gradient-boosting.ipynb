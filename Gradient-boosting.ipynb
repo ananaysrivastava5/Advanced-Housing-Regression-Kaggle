{
 "cells": [
  {
   "cell_type": "code",
   "execution_count": 1,
   "metadata": {},
   "outputs": [],
   "source": [
    "import pandas as pd\n",
    "import numpy as np\n",
    "import matplotlib.pyplot as plt \n",
    "%matplotlib inline"
   ]
  },
  {
   "cell_type": "code",
   "execution_count": 2,
   "metadata": {},
   "outputs": [],
   "source": [
    "#Display all the columns of the dataset\n",
    "pd.set_option('display.max_columns', 500)"
   ]
  },
  {
   "cell_type": "code",
   "execution_count": 3,
   "metadata": {},
   "outputs": [],
   "source": [
    "train = pd.read_csv('train_feature_sel.csv')"
   ]
  },
  {
   "cell_type": "code",
   "execution_count": 4,
   "metadata": {},
   "outputs": [
    {
     "data": {
      "text/html": [
       "<div>\n",
       "<style scoped>\n",
       "    .dataframe tbody tr th:only-of-type {\n",
       "        vertical-align: middle;\n",
       "    }\n",
       "\n",
       "    .dataframe tbody tr th {\n",
       "        vertical-align: top;\n",
       "    }\n",
       "\n",
       "    .dataframe thead th {\n",
       "        text-align: right;\n",
       "    }\n",
       "</style>\n",
       "<table border=\"1\" class=\"dataframe\">\n",
       "  <thead>\n",
       "    <tr style=\"text-align: right;\">\n",
       "      <th></th>\n",
       "      <th>Id</th>\n",
       "      <th>SalePrice</th>\n",
       "      <th>MSSubClass</th>\n",
       "      <th>OverallQual</th>\n",
       "      <th>YearRemodAdd</th>\n",
       "      <th>1stFlrSF</th>\n",
       "      <th>GrLivArea</th>\n",
       "      <th>GarageCars</th>\n",
       "      <th>MSZoning_RL</th>\n",
       "      <th>MSZoning_RM</th>\n",
       "      <th>LotShape_Reg</th>\n",
       "      <th>Neighborhood_Edwards</th>\n",
       "      <th>Neighborhood_NridgHt</th>\n",
       "      <th>Condition1_Norm</th>\n",
       "      <th>RoofStyle_Hip</th>\n",
       "      <th>MasVnrType_None</th>\n",
       "      <th>ExterQual_TA</th>\n",
       "      <th>Foundation_PConc</th>\n",
       "      <th>BsmtCond_TA</th>\n",
       "      <th>BsmtExposure_Gd</th>\n",
       "      <th>BsmtExposure_No</th>\n",
       "      <th>BsmtFinType1_GLQ</th>\n",
       "      <th>BsmtFinType1_Unf</th>\n",
       "      <th>HeatingQC_TA</th>\n",
       "      <th>CentralAir_Y</th>\n",
       "      <th>KitchenQual_TA</th>\n",
       "      <th>Functional_Typ</th>\n",
       "      <th>FireplaceQu_Gd</th>\n",
       "      <th>FireplaceQu_Missing</th>\n",
       "      <th>GarageType_Detchd</th>\n",
       "      <th>GarageFinish_Unf</th>\n",
       "      <th>GarageCond_TA</th>\n",
       "      <th>PavedDrive_Y</th>\n",
       "      <th>SaleType_New</th>\n",
       "      <th>SaleCondition_Partial</th>\n",
       "    </tr>\n",
       "  </thead>\n",
       "  <tbody>\n",
       "    <tr>\n",
       "      <th>0</th>\n",
       "      <td>1</td>\n",
       "      <td>12.247694</td>\n",
       "      <td>0.235294</td>\n",
       "      <td>0.666667</td>\n",
       "      <td>0.098361</td>\n",
       "      <td>0.356155</td>\n",
       "      <td>0.577712</td>\n",
       "      <td>0.50</td>\n",
       "      <td>1.0</td>\n",
       "      <td>0.0</td>\n",
       "      <td>1.0</td>\n",
       "      <td>0.0</td>\n",
       "      <td>0.0</td>\n",
       "      <td>1.0</td>\n",
       "      <td>0.0</td>\n",
       "      <td>0.0</td>\n",
       "      <td>0.0</td>\n",
       "      <td>1.0</td>\n",
       "      <td>1.0</td>\n",
       "      <td>0.0</td>\n",
       "      <td>1.0</td>\n",
       "      <td>1.0</td>\n",
       "      <td>0.0</td>\n",
       "      <td>0.0</td>\n",
       "      <td>1.0</td>\n",
       "      <td>0.0</td>\n",
       "      <td>1.0</td>\n",
       "      <td>0.0</td>\n",
       "      <td>1.0</td>\n",
       "      <td>0.0</td>\n",
       "      <td>0.0</td>\n",
       "      <td>1.0</td>\n",
       "      <td>1.0</td>\n",
       "      <td>0.0</td>\n",
       "      <td>0.0</td>\n",
       "    </tr>\n",
       "    <tr>\n",
       "      <th>1</th>\n",
       "      <td>2</td>\n",
       "      <td>12.109011</td>\n",
       "      <td>0.000000</td>\n",
       "      <td>0.555556</td>\n",
       "      <td>0.524590</td>\n",
       "      <td>0.503056</td>\n",
       "      <td>0.470245</td>\n",
       "      <td>0.50</td>\n",
       "      <td>1.0</td>\n",
       "      <td>0.0</td>\n",
       "      <td>1.0</td>\n",
       "      <td>0.0</td>\n",
       "      <td>0.0</td>\n",
       "      <td>0.0</td>\n",
       "      <td>0.0</td>\n",
       "      <td>1.0</td>\n",
       "      <td>1.0</td>\n",
       "      <td>0.0</td>\n",
       "      <td>1.0</td>\n",
       "      <td>1.0</td>\n",
       "      <td>0.0</td>\n",
       "      <td>0.0</td>\n",
       "      <td>0.0</td>\n",
       "      <td>0.0</td>\n",
       "      <td>1.0</td>\n",
       "      <td>1.0</td>\n",
       "      <td>1.0</td>\n",
       "      <td>0.0</td>\n",
       "      <td>0.0</td>\n",
       "      <td>0.0</td>\n",
       "      <td>0.0</td>\n",
       "      <td>1.0</td>\n",
       "      <td>1.0</td>\n",
       "      <td>0.0</td>\n",
       "      <td>0.0</td>\n",
       "    </tr>\n",
       "    <tr>\n",
       "      <th>2</th>\n",
       "      <td>3</td>\n",
       "      <td>12.317167</td>\n",
       "      <td>0.235294</td>\n",
       "      <td>0.666667</td>\n",
       "      <td>0.114754</td>\n",
       "      <td>0.383441</td>\n",
       "      <td>0.593095</td>\n",
       "      <td>0.50</td>\n",
       "      <td>1.0</td>\n",
       "      <td>0.0</td>\n",
       "      <td>0.0</td>\n",
       "      <td>0.0</td>\n",
       "      <td>0.0</td>\n",
       "      <td>1.0</td>\n",
       "      <td>0.0</td>\n",
       "      <td>0.0</td>\n",
       "      <td>0.0</td>\n",
       "      <td>1.0</td>\n",
       "      <td>1.0</td>\n",
       "      <td>0.0</td>\n",
       "      <td>0.0</td>\n",
       "      <td>1.0</td>\n",
       "      <td>0.0</td>\n",
       "      <td>0.0</td>\n",
       "      <td>1.0</td>\n",
       "      <td>0.0</td>\n",
       "      <td>1.0</td>\n",
       "      <td>0.0</td>\n",
       "      <td>0.0</td>\n",
       "      <td>0.0</td>\n",
       "      <td>0.0</td>\n",
       "      <td>1.0</td>\n",
       "      <td>1.0</td>\n",
       "      <td>0.0</td>\n",
       "      <td>0.0</td>\n",
       "    </tr>\n",
       "    <tr>\n",
       "      <th>3</th>\n",
       "      <td>4</td>\n",
       "      <td>11.849398</td>\n",
       "      <td>0.294118</td>\n",
       "      <td>0.666667</td>\n",
       "      <td>0.606557</td>\n",
       "      <td>0.399941</td>\n",
       "      <td>0.579157</td>\n",
       "      <td>0.75</td>\n",
       "      <td>1.0</td>\n",
       "      <td>0.0</td>\n",
       "      <td>0.0</td>\n",
       "      <td>0.0</td>\n",
       "      <td>0.0</td>\n",
       "      <td>1.0</td>\n",
       "      <td>0.0</td>\n",
       "      <td>1.0</td>\n",
       "      <td>1.0</td>\n",
       "      <td>0.0</td>\n",
       "      <td>0.0</td>\n",
       "      <td>0.0</td>\n",
       "      <td>1.0</td>\n",
       "      <td>0.0</td>\n",
       "      <td>0.0</td>\n",
       "      <td>0.0</td>\n",
       "      <td>1.0</td>\n",
       "      <td>0.0</td>\n",
       "      <td>1.0</td>\n",
       "      <td>1.0</td>\n",
       "      <td>0.0</td>\n",
       "      <td>1.0</td>\n",
       "      <td>1.0</td>\n",
       "      <td>1.0</td>\n",
       "      <td>1.0</td>\n",
       "      <td>0.0</td>\n",
       "      <td>0.0</td>\n",
       "    </tr>\n",
       "    <tr>\n",
       "      <th>4</th>\n",
       "      <td>5</td>\n",
       "      <td>12.429216</td>\n",
       "      <td>0.235294</td>\n",
       "      <td>0.777778</td>\n",
       "      <td>0.147541</td>\n",
       "      <td>0.466237</td>\n",
       "      <td>0.666523</td>\n",
       "      <td>0.75</td>\n",
       "      <td>1.0</td>\n",
       "      <td>0.0</td>\n",
       "      <td>0.0</td>\n",
       "      <td>0.0</td>\n",
       "      <td>0.0</td>\n",
       "      <td>1.0</td>\n",
       "      <td>0.0</td>\n",
       "      <td>0.0</td>\n",
       "      <td>0.0</td>\n",
       "      <td>1.0</td>\n",
       "      <td>1.0</td>\n",
       "      <td>0.0</td>\n",
       "      <td>0.0</td>\n",
       "      <td>1.0</td>\n",
       "      <td>0.0</td>\n",
       "      <td>0.0</td>\n",
       "      <td>1.0</td>\n",
       "      <td>0.0</td>\n",
       "      <td>1.0</td>\n",
       "      <td>0.0</td>\n",
       "      <td>0.0</td>\n",
       "      <td>0.0</td>\n",
       "      <td>0.0</td>\n",
       "      <td>1.0</td>\n",
       "      <td>1.0</td>\n",
       "      <td>0.0</td>\n",
       "      <td>0.0</td>\n",
       "    </tr>\n",
       "  </tbody>\n",
       "</table>\n",
       "</div>"
      ],
      "text/plain": [
       "   Id  SalePrice  MSSubClass  OverallQual  YearRemodAdd  1stFlrSF  GrLivArea  \\\n",
       "0   1  12.247694    0.235294     0.666667      0.098361  0.356155   0.577712   \n",
       "1   2  12.109011    0.000000     0.555556      0.524590  0.503056   0.470245   \n",
       "2   3  12.317167    0.235294     0.666667      0.114754  0.383441   0.593095   \n",
       "3   4  11.849398    0.294118     0.666667      0.606557  0.399941   0.579157   \n",
       "4   5  12.429216    0.235294     0.777778      0.147541  0.466237   0.666523   \n",
       "\n",
       "   GarageCars  MSZoning_RL  MSZoning_RM  LotShape_Reg  Neighborhood_Edwards  \\\n",
       "0        0.50          1.0          0.0           1.0                   0.0   \n",
       "1        0.50          1.0          0.0           1.0                   0.0   \n",
       "2        0.50          1.0          0.0           0.0                   0.0   \n",
       "3        0.75          1.0          0.0           0.0                   0.0   \n",
       "4        0.75          1.0          0.0           0.0                   0.0   \n",
       "\n",
       "   Neighborhood_NridgHt  Condition1_Norm  RoofStyle_Hip  MasVnrType_None  \\\n",
       "0                   0.0              1.0            0.0              0.0   \n",
       "1                   0.0              0.0            0.0              1.0   \n",
       "2                   0.0              1.0            0.0              0.0   \n",
       "3                   0.0              1.0            0.0              1.0   \n",
       "4                   0.0              1.0            0.0              0.0   \n",
       "\n",
       "   ExterQual_TA  Foundation_PConc  BsmtCond_TA  BsmtExposure_Gd  \\\n",
       "0           0.0               1.0          1.0              0.0   \n",
       "1           1.0               0.0          1.0              1.0   \n",
       "2           0.0               1.0          1.0              0.0   \n",
       "3           1.0               0.0          0.0              0.0   \n",
       "4           0.0               1.0          1.0              0.0   \n",
       "\n",
       "   BsmtExposure_No  BsmtFinType1_GLQ  BsmtFinType1_Unf  HeatingQC_TA  \\\n",
       "0              1.0               1.0               0.0           0.0   \n",
       "1              0.0               0.0               0.0           0.0   \n",
       "2              0.0               1.0               0.0           0.0   \n",
       "3              1.0               0.0               0.0           0.0   \n",
       "4              0.0               1.0               0.0           0.0   \n",
       "\n",
       "   CentralAir_Y  KitchenQual_TA  Functional_Typ  FireplaceQu_Gd  \\\n",
       "0           1.0             0.0             1.0             0.0   \n",
       "1           1.0             1.0             1.0             0.0   \n",
       "2           1.0             0.0             1.0             0.0   \n",
       "3           1.0             0.0             1.0             1.0   \n",
       "4           1.0             0.0             1.0             0.0   \n",
       "\n",
       "   FireplaceQu_Missing  GarageType_Detchd  GarageFinish_Unf  GarageCond_TA  \\\n",
       "0                  1.0                0.0               0.0            1.0   \n",
       "1                  0.0                0.0               0.0            1.0   \n",
       "2                  0.0                0.0               0.0            1.0   \n",
       "3                  0.0                1.0               1.0            1.0   \n",
       "4                  0.0                0.0               0.0            1.0   \n",
       "\n",
       "   PavedDrive_Y  SaleType_New  SaleCondition_Partial  \n",
       "0           1.0           0.0                    0.0  \n",
       "1           1.0           0.0                    0.0  \n",
       "2           1.0           0.0                    0.0  \n",
       "3           1.0           0.0                    0.0  \n",
       "4           1.0           0.0                    0.0  "
      ]
     },
     "execution_count": 4,
     "metadata": {},
     "output_type": "execute_result"
    }
   ],
   "source": [
    "train.head()"
   ]
  },
  {
   "cell_type": "code",
   "execution_count": 5,
   "metadata": {},
   "outputs": [
    {
     "name": "stdout",
     "output_type": "stream",
     "text": [
      "<class 'pandas.core.frame.DataFrame'>\n",
      "RangeIndex: 1460 entries, 0 to 1459\n",
      "Data columns (total 35 columns):\n",
      " #   Column                 Non-Null Count  Dtype  \n",
      "---  ------                 --------------  -----  \n",
      " 0   Id                     1460 non-null   int64  \n",
      " 1   SalePrice              1460 non-null   float64\n",
      " 2   MSSubClass             1460 non-null   float64\n",
      " 3   OverallQual            1460 non-null   float64\n",
      " 4   YearRemodAdd           1460 non-null   float64\n",
      " 5   1stFlrSF               1460 non-null   float64\n",
      " 6   GrLivArea              1460 non-null   float64\n",
      " 7   GarageCars             1460 non-null   float64\n",
      " 8   MSZoning_RL            1460 non-null   float64\n",
      " 9   MSZoning_RM            1460 non-null   float64\n",
      " 10  LotShape_Reg           1460 non-null   float64\n",
      " 11  Neighborhood_Edwards   1460 non-null   float64\n",
      " 12  Neighborhood_NridgHt   1460 non-null   float64\n",
      " 13  Condition1_Norm        1460 non-null   float64\n",
      " 14  RoofStyle_Hip          1460 non-null   float64\n",
      " 15  MasVnrType_None        1460 non-null   float64\n",
      " 16  ExterQual_TA           1460 non-null   float64\n",
      " 17  Foundation_PConc       1460 non-null   float64\n",
      " 18  BsmtCond_TA            1460 non-null   float64\n",
      " 19  BsmtExposure_Gd        1460 non-null   float64\n",
      " 20  BsmtExposure_No        1460 non-null   float64\n",
      " 21  BsmtFinType1_GLQ       1460 non-null   float64\n",
      " 22  BsmtFinType1_Unf       1460 non-null   float64\n",
      " 23  HeatingQC_TA           1460 non-null   float64\n",
      " 24  CentralAir_Y           1460 non-null   float64\n",
      " 25  KitchenQual_TA         1460 non-null   float64\n",
      " 26  Functional_Typ         1460 non-null   float64\n",
      " 27  FireplaceQu_Gd         1460 non-null   float64\n",
      " 28  FireplaceQu_Missing    1460 non-null   float64\n",
      " 29  GarageType_Detchd      1460 non-null   float64\n",
      " 30  GarageFinish_Unf       1460 non-null   float64\n",
      " 31  GarageCond_TA          1460 non-null   float64\n",
      " 32  PavedDrive_Y           1460 non-null   float64\n",
      " 33  SaleType_New           1460 non-null   float64\n",
      " 34  SaleCondition_Partial  1460 non-null   float64\n",
      "dtypes: float64(34), int64(1)\n",
      "memory usage: 399.3 KB\n"
     ]
    }
   ],
   "source": [
    "train.info()"
   ]
  },
  {
   "cell_type": "code",
   "execution_count": 6,
   "metadata": {},
   "outputs": [],
   "source": [
    "test = pd.read_csv('test_feature_sel.csv')"
   ]
  },
  {
   "cell_type": "code",
   "execution_count": 7,
   "metadata": {},
   "outputs": [
    {
     "data": {
      "text/html": [
       "<div>\n",
       "<style scoped>\n",
       "    .dataframe tbody tr th:only-of-type {\n",
       "        vertical-align: middle;\n",
       "    }\n",
       "\n",
       "    .dataframe tbody tr th {\n",
       "        vertical-align: top;\n",
       "    }\n",
       "\n",
       "    .dataframe thead th {\n",
       "        text-align: right;\n",
       "    }\n",
       "</style>\n",
       "<table border=\"1\" class=\"dataframe\">\n",
       "  <thead>\n",
       "    <tr style=\"text-align: right;\">\n",
       "      <th></th>\n",
       "      <th>Id</th>\n",
       "      <th>MSSubClass</th>\n",
       "      <th>OverallQual</th>\n",
       "      <th>YearRemodAdd</th>\n",
       "      <th>1stFlrSF</th>\n",
       "      <th>GrLivArea</th>\n",
       "      <th>GarageCars</th>\n",
       "      <th>MSZoning_RL</th>\n",
       "      <th>MSZoning_RM</th>\n",
       "      <th>LotShape_Reg</th>\n",
       "      <th>Neighborhood_Edwards</th>\n",
       "      <th>Neighborhood_NridgHt</th>\n",
       "      <th>Condition1_Norm</th>\n",
       "      <th>RoofStyle_Hip</th>\n",
       "      <th>MasVnrType_None</th>\n",
       "      <th>ExterQual_TA</th>\n",
       "      <th>Foundation_PConc</th>\n",
       "      <th>BsmtCond_TA</th>\n",
       "      <th>BsmtExposure_Gd</th>\n",
       "      <th>BsmtExposure_No</th>\n",
       "      <th>BsmtFinType1_GLQ</th>\n",
       "      <th>BsmtFinType1_Unf</th>\n",
       "      <th>HeatingQC_TA</th>\n",
       "      <th>CentralAir_Y</th>\n",
       "      <th>KitchenQual_TA</th>\n",
       "      <th>Functional_Typ</th>\n",
       "      <th>FireplaceQu_Gd</th>\n",
       "      <th>FireplaceQu_Missing</th>\n",
       "      <th>GarageType_Detchd</th>\n",
       "      <th>GarageFinish_Unf</th>\n",
       "      <th>GarageCond_TA</th>\n",
       "      <th>PavedDrive_Y</th>\n",
       "      <th>SaleType_New</th>\n",
       "      <th>SaleCondition_Partial</th>\n",
       "    </tr>\n",
       "  </thead>\n",
       "  <tbody>\n",
       "    <tr>\n",
       "      <th>0</th>\n",
       "      <td>1461</td>\n",
       "      <td>0.000000</td>\n",
       "      <td>0.444444</td>\n",
       "      <td>0.822581</td>\n",
       "      <td>0.312253</td>\n",
       "      <td>0.312253</td>\n",
       "      <td>0.2</td>\n",
       "      <td>0.0</td>\n",
       "      <td>0.0</td>\n",
       "      <td>1.0</td>\n",
       "      <td>0.0</td>\n",
       "      <td>0.0</td>\n",
       "      <td>0.0</td>\n",
       "      <td>0.0</td>\n",
       "      <td>1.0</td>\n",
       "      <td>1.0</td>\n",
       "      <td>0.0</td>\n",
       "      <td>1.0</td>\n",
       "      <td>0.0</td>\n",
       "      <td>1.0</td>\n",
       "      <td>0.0</td>\n",
       "      <td>0.0</td>\n",
       "      <td>1.0</td>\n",
       "      <td>1.0</td>\n",
       "      <td>1.0</td>\n",
       "      <td>1.0</td>\n",
       "      <td>0.0</td>\n",
       "      <td>1.0</td>\n",
       "      <td>0.0</td>\n",
       "      <td>1.0</td>\n",
       "      <td>1.0</td>\n",
       "      <td>1.0</td>\n",
       "      <td>0.0</td>\n",
       "      <td>0.0</td>\n",
       "    </tr>\n",
       "    <tr>\n",
       "      <th>1</th>\n",
       "      <td>1462</td>\n",
       "      <td>0.000000</td>\n",
       "      <td>0.555556</td>\n",
       "      <td>0.870968</td>\n",
       "      <td>0.468253</td>\n",
       "      <td>0.468253</td>\n",
       "      <td>0.2</td>\n",
       "      <td>1.0</td>\n",
       "      <td>0.0</td>\n",
       "      <td>0.0</td>\n",
       "      <td>0.0</td>\n",
       "      <td>0.0</td>\n",
       "      <td>1.0</td>\n",
       "      <td>1.0</td>\n",
       "      <td>0.0</td>\n",
       "      <td>1.0</td>\n",
       "      <td>0.0</td>\n",
       "      <td>1.0</td>\n",
       "      <td>0.0</td>\n",
       "      <td>1.0</td>\n",
       "      <td>0.0</td>\n",
       "      <td>0.0</td>\n",
       "      <td>1.0</td>\n",
       "      <td>1.0</td>\n",
       "      <td>0.0</td>\n",
       "      <td>1.0</td>\n",
       "      <td>0.0</td>\n",
       "      <td>1.0</td>\n",
       "      <td>0.0</td>\n",
       "      <td>1.0</td>\n",
       "      <td>1.0</td>\n",
       "      <td>1.0</td>\n",
       "      <td>0.0</td>\n",
       "      <td>0.0</td>\n",
       "    </tr>\n",
       "    <tr>\n",
       "      <th>2</th>\n",
       "      <td>1463</td>\n",
       "      <td>0.235294</td>\n",
       "      <td>0.444444</td>\n",
       "      <td>0.225806</td>\n",
       "      <td>0.326139</td>\n",
       "      <td>0.548792</td>\n",
       "      <td>0.4</td>\n",
       "      <td>1.0</td>\n",
       "      <td>0.0</td>\n",
       "      <td>0.0</td>\n",
       "      <td>0.0</td>\n",
       "      <td>0.0</td>\n",
       "      <td>1.0</td>\n",
       "      <td>0.0</td>\n",
       "      <td>1.0</td>\n",
       "      <td>1.0</td>\n",
       "      <td>1.0</td>\n",
       "      <td>1.0</td>\n",
       "      <td>0.0</td>\n",
       "      <td>1.0</td>\n",
       "      <td>1.0</td>\n",
       "      <td>0.0</td>\n",
       "      <td>0.0</td>\n",
       "      <td>1.0</td>\n",
       "      <td>1.0</td>\n",
       "      <td>1.0</td>\n",
       "      <td>0.0</td>\n",
       "      <td>0.0</td>\n",
       "      <td>0.0</td>\n",
       "      <td>0.0</td>\n",
       "      <td>1.0</td>\n",
       "      <td>1.0</td>\n",
       "      <td>0.0</td>\n",
       "      <td>0.0</td>\n",
       "    </tr>\n",
       "    <tr>\n",
       "      <th>3</th>\n",
       "      <td>1464</td>\n",
       "      <td>0.235294</td>\n",
       "      <td>0.555556</td>\n",
       "      <td>0.225806</td>\n",
       "      <td>0.325285</td>\n",
       "      <td>0.542672</td>\n",
       "      <td>0.4</td>\n",
       "      <td>1.0</td>\n",
       "      <td>0.0</td>\n",
       "      <td>0.0</td>\n",
       "      <td>0.0</td>\n",
       "      <td>0.0</td>\n",
       "      <td>1.0</td>\n",
       "      <td>0.0</td>\n",
       "      <td>0.0</td>\n",
       "      <td>1.0</td>\n",
       "      <td>1.0</td>\n",
       "      <td>1.0</td>\n",
       "      <td>0.0</td>\n",
       "      <td>1.0</td>\n",
       "      <td>1.0</td>\n",
       "      <td>0.0</td>\n",
       "      <td>0.0</td>\n",
       "      <td>1.0</td>\n",
       "      <td>0.0</td>\n",
       "      <td>1.0</td>\n",
       "      <td>1.0</td>\n",
       "      <td>0.0</td>\n",
       "      <td>0.0</td>\n",
       "      <td>0.0</td>\n",
       "      <td>1.0</td>\n",
       "      <td>1.0</td>\n",
       "      <td>0.0</td>\n",
       "      <td>0.0</td>\n",
       "    </tr>\n",
       "    <tr>\n",
       "      <th>4</th>\n",
       "      <td>1465</td>\n",
       "      <td>0.588235</td>\n",
       "      <td>0.777778</td>\n",
       "      <td>0.322581</td>\n",
       "      <td>0.453388</td>\n",
       "      <td>0.453388</td>\n",
       "      <td>0.4</td>\n",
       "      <td>1.0</td>\n",
       "      <td>0.0</td>\n",
       "      <td>0.0</td>\n",
       "      <td>0.0</td>\n",
       "      <td>0.0</td>\n",
       "      <td>1.0</td>\n",
       "      <td>0.0</td>\n",
       "      <td>1.0</td>\n",
       "      <td>0.0</td>\n",
       "      <td>1.0</td>\n",
       "      <td>1.0</td>\n",
       "      <td>0.0</td>\n",
       "      <td>1.0</td>\n",
       "      <td>0.0</td>\n",
       "      <td>0.0</td>\n",
       "      <td>0.0</td>\n",
       "      <td>1.0</td>\n",
       "      <td>0.0</td>\n",
       "      <td>1.0</td>\n",
       "      <td>0.0</td>\n",
       "      <td>1.0</td>\n",
       "      <td>0.0</td>\n",
       "      <td>0.0</td>\n",
       "      <td>1.0</td>\n",
       "      <td>1.0</td>\n",
       "      <td>0.0</td>\n",
       "      <td>0.0</td>\n",
       "    </tr>\n",
       "  </tbody>\n",
       "</table>\n",
       "</div>"
      ],
      "text/plain": [
       "     Id  MSSubClass  OverallQual  YearRemodAdd  1stFlrSF  GrLivArea  \\\n",
       "0  1461    0.000000     0.444444      0.822581  0.312253   0.312253   \n",
       "1  1462    0.000000     0.555556      0.870968  0.468253   0.468253   \n",
       "2  1463    0.235294     0.444444      0.225806  0.326139   0.548792   \n",
       "3  1464    0.235294     0.555556      0.225806  0.325285   0.542672   \n",
       "4  1465    0.588235     0.777778      0.322581  0.453388   0.453388   \n",
       "\n",
       "   GarageCars  MSZoning_RL  MSZoning_RM  LotShape_Reg  Neighborhood_Edwards  \\\n",
       "0         0.2          0.0          0.0           1.0                   0.0   \n",
       "1         0.2          1.0          0.0           0.0                   0.0   \n",
       "2         0.4          1.0          0.0           0.0                   0.0   \n",
       "3         0.4          1.0          0.0           0.0                   0.0   \n",
       "4         0.4          1.0          0.0           0.0                   0.0   \n",
       "\n",
       "   Neighborhood_NridgHt  Condition1_Norm  RoofStyle_Hip  MasVnrType_None  \\\n",
       "0                   0.0              0.0            0.0              1.0   \n",
       "1                   0.0              1.0            1.0              0.0   \n",
       "2                   0.0              1.0            0.0              1.0   \n",
       "3                   0.0              1.0            0.0              0.0   \n",
       "4                   0.0              1.0            0.0              1.0   \n",
       "\n",
       "   ExterQual_TA  Foundation_PConc  BsmtCond_TA  BsmtExposure_Gd  \\\n",
       "0           1.0               0.0          1.0              0.0   \n",
       "1           1.0               0.0          1.0              0.0   \n",
       "2           1.0               1.0          1.0              0.0   \n",
       "3           1.0               1.0          1.0              0.0   \n",
       "4           0.0               1.0          1.0              0.0   \n",
       "\n",
       "   BsmtExposure_No  BsmtFinType1_GLQ  BsmtFinType1_Unf  HeatingQC_TA  \\\n",
       "0              1.0               0.0               0.0           1.0   \n",
       "1              1.0               0.0               0.0           1.0   \n",
       "2              1.0               1.0               0.0           0.0   \n",
       "3              1.0               1.0               0.0           0.0   \n",
       "4              1.0               0.0               0.0           0.0   \n",
       "\n",
       "   CentralAir_Y  KitchenQual_TA  Functional_Typ  FireplaceQu_Gd  \\\n",
       "0           1.0             1.0             1.0             0.0   \n",
       "1           1.0             0.0             1.0             0.0   \n",
       "2           1.0             1.0             1.0             0.0   \n",
       "3           1.0             0.0             1.0             1.0   \n",
       "4           1.0             0.0             1.0             0.0   \n",
       "\n",
       "   FireplaceQu_Missing  GarageType_Detchd  GarageFinish_Unf  GarageCond_TA  \\\n",
       "0                  1.0                0.0               1.0            1.0   \n",
       "1                  1.0                0.0               1.0            1.0   \n",
       "2                  0.0                0.0               0.0            1.0   \n",
       "3                  0.0                0.0               0.0            1.0   \n",
       "4                  1.0                0.0               0.0            1.0   \n",
       "\n",
       "   PavedDrive_Y  SaleType_New  SaleCondition_Partial  \n",
       "0           1.0           0.0                    0.0  \n",
       "1           1.0           0.0                    0.0  \n",
       "2           1.0           0.0                    0.0  \n",
       "3           1.0           0.0                    0.0  \n",
       "4           1.0           0.0                    0.0  "
      ]
     },
     "execution_count": 7,
     "metadata": {},
     "output_type": "execute_result"
    }
   ],
   "source": [
    "test.head()"
   ]
  },
  {
   "cell_type": "code",
   "execution_count": 8,
   "metadata": {},
   "outputs": [
    {
     "name": "stdout",
     "output_type": "stream",
     "text": [
      "<class 'pandas.core.frame.DataFrame'>\n",
      "RangeIndex: 1459 entries, 0 to 1458\n",
      "Data columns (total 34 columns):\n",
      " #   Column                 Non-Null Count  Dtype  \n",
      "---  ------                 --------------  -----  \n",
      " 0   Id                     1459 non-null   int64  \n",
      " 1   MSSubClass             1459 non-null   float64\n",
      " 2   OverallQual            1459 non-null   float64\n",
      " 3   YearRemodAdd           1459 non-null   float64\n",
      " 4   1stFlrSF               1459 non-null   float64\n",
      " 5   GrLivArea              1459 non-null   float64\n",
      " 6   GarageCars             1459 non-null   float64\n",
      " 7   MSZoning_RL            1459 non-null   float64\n",
      " 8   MSZoning_RM            1459 non-null   float64\n",
      " 9   LotShape_Reg           1459 non-null   float64\n",
      " 10  Neighborhood_Edwards   1459 non-null   float64\n",
      " 11  Neighborhood_NridgHt   1459 non-null   float64\n",
      " 12  Condition1_Norm        1459 non-null   float64\n",
      " 13  RoofStyle_Hip          1459 non-null   float64\n",
      " 14  MasVnrType_None        1459 non-null   float64\n",
      " 15  ExterQual_TA           1459 non-null   float64\n",
      " 16  Foundation_PConc       1459 non-null   float64\n",
      " 17  BsmtCond_TA            1459 non-null   float64\n",
      " 18  BsmtExposure_Gd        1459 non-null   float64\n",
      " 19  BsmtExposure_No        1459 non-null   float64\n",
      " 20  BsmtFinType1_GLQ       1459 non-null   float64\n",
      " 21  BsmtFinType1_Unf       1459 non-null   float64\n",
      " 22  HeatingQC_TA           1459 non-null   float64\n",
      " 23  CentralAir_Y           1459 non-null   float64\n",
      " 24  KitchenQual_TA         1459 non-null   float64\n",
      " 25  Functional_Typ         1459 non-null   float64\n",
      " 26  FireplaceQu_Gd         1459 non-null   float64\n",
      " 27  FireplaceQu_Missing    1459 non-null   float64\n",
      " 28  GarageType_Detchd      1459 non-null   float64\n",
      " 29  GarageFinish_Unf       1459 non-null   float64\n",
      " 30  GarageCond_TA          1459 non-null   float64\n",
      " 31  PavedDrive_Y           1459 non-null   float64\n",
      " 32  SaleType_New           1459 non-null   float64\n",
      " 33  SaleCondition_Partial  1459 non-null   float64\n",
      "dtypes: float64(33), int64(1)\n",
      "memory usage: 387.7 KB\n"
     ]
    }
   ],
   "source": [
    "test.info()"
   ]
  },
  {
   "cell_type": "code",
   "execution_count": 9,
   "metadata": {},
   "outputs": [],
   "source": [
    "test_Id = test['Id']"
   ]
  },
  {
   "cell_type": "code",
   "execution_count": 10,
   "metadata": {},
   "outputs": [],
   "source": [
    "test = test.drop(['Id'], axis=1)"
   ]
  },
  {
   "cell_type": "code",
   "execution_count": 11,
   "metadata": {},
   "outputs": [
    {
     "data": {
      "text/plain": [
       "(1459, 33)"
      ]
     },
     "execution_count": 11,
     "metadata": {},
     "output_type": "execute_result"
    }
   ],
   "source": [
    "test.shape"
   ]
  },
  {
   "cell_type": "code",
   "execution_count": 12,
   "metadata": {},
   "outputs": [],
   "source": [
    "#dependent variable\n",
    "y = train['SalePrice']"
   ]
  },
  {
   "cell_type": "code",
   "execution_count": 13,
   "metadata": {},
   "outputs": [],
   "source": [
    "X = train.drop(['Id', 'SalePrice'], axis=1)"
   ]
  },
  {
   "cell_type": "markdown",
   "metadata": {},
   "source": [
    "# A function for modelling and cross-validation"
   ]
  },
  {
   "cell_type": "code",
   "execution_count": 14,
   "metadata": {},
   "outputs": [],
   "source": [
    "from sklearn.ensemble import GradientBoostingRegressor\n",
    "from sklearn import metrics\n",
    "from sklearn.metrics import mean_squared_error\n",
    "from sklearn.model_selection import GridSearchCV\n",
    "from sklearn.model_selection import cross_val_score"
   ]
  },
  {
   "cell_type": "code",
   "execution_count": 15,
   "metadata": {},
   "outputs": [],
   "source": [
    "def model_fit(reg, X_train, y_train, performCV=True, printFeatureImportance=True, cv_folds=5):\n",
    "    # fitting the training model \n",
    "    reg.fit(X_train, y_train)\n",
    "    \n",
    "    # Calculating mean squared error \n",
    "    mse = mean_squared_error(y_train, reg.predict(X_train))\n",
    "    rmse = np.sqrt(mse)\n",
    "    \n",
    "    # Performing cross-validation\n",
    "    if performCV:\n",
    "        cv_score = cross_val_score(reg, X_train, y_train, cv=cv_folds, scoring='neg_mean_squared_error')\n",
    "     \n",
    "    # Model Report\n",
    "    print('Model Report:')\n",
    "    print('Root Mean Squared Error on training set:',rmse)\n",
    "    \n",
    "    if performCV:\n",
    "        score = np.sqrt(-cv_score)\n",
    "        print('CV score-')\n",
    "        print('Mean score:',np.round(np.mean(score),4),'Std:',np.round(np.std(score),4),\n",
    "              'Min:',np.round(np.min(score),4),'Max:',np.round(np.max(score),4))\n",
    "        \n",
    "    #Print Feature Importance:\n",
    "    if printFeatureImportance:\n",
    "        feat_imp = pd.Series(reg.feature_importances_, X_train.columns).sort_values(ascending=False)\n",
    "        plt.figure(figsize=(10,6))\n",
    "        feat_imp.plot(kind='bar', title='Feature Importances')\n",
    "        plt.ylabel('Feature Importance Score')"
   ]
  },
  {
   "cell_type": "markdown",
   "metadata": {},
   "source": [
    "## Baseline Model"
   ]
  },
  {
   "cell_type": "code",
   "execution_count": 16,
   "metadata": {},
   "outputs": [
    {
     "name": "stdout",
     "output_type": "stream",
     "text": [
      "Model Report:\n",
      "Root Mean Squared Error on training set: 0.10430364502505075\n",
      "CV score-\n",
      "Mean score: 0.1399 Std: 0.0079 Min: 0.1288 Max: 0.1497\n"
     ]
    },
    {
     "data": {
      "image/png": "[encoded data removed]",
      "text/plain": [
       "<Figure size 720x432 with 1 Axes>"
      ]
     },
     "metadata": {
      "needs_background": "light"
     },
     "output_type": "display_data"
    }
   ],
   "source": [
    "regressor = GradientBoostingRegressor(random_state=0)\n",
    "model_fit(regressor, X, y)"
   ]
  },
  {
   "cell_type": "code",
   "execution_count": 17,
   "metadata": {},
   "outputs": [],
   "source": [
    "y_pred = regressor.predict(test)\n",
    "submission = pd.DataFrame({'Id': test_Id, 'SalePrice': y_pred})\n",
    "submission['SalePrice'] = submission['SalePrice']\n",
    "submission.to_csv('submission-GBM-base.csv', index=False)"
   ]
  },
  {
   "cell_type": "code",
   "execution_count": 72,
   "metadata": {},
   "outputs": [],
   "source": [
    "submission = pd.DataFrame({'Id': test_Id, 'SalePrice': y_pred})\n",
    "submission['SalePrice'] = submission['SalePrice']"
   ]
  },
  {
   "cell_type": "code",
   "execution_count": 73,
   "metadata": {},
   "outputs": [
    {
     "data": {
      "text/plain": [
       "(1459, 2)"
      ]
     },
     "execution_count": 73,
     "metadata": {},
     "output_type": "execute_result"
    }
   ],
   "source": [
    "submission.shape"
   ]
  },
  {
   "cell_type": "code",
   "execution_count": 74,
   "metadata": {},
   "outputs": [],
   "source": [
    "submission.to_csv('submission-GBM-base.csv', index=False)"
   ]
  },
  {
   "cell_type": "markdown",
   "metadata": {},
   "source": [
    "## Tuning the parameters"
   ]
  },
  {
   "cell_type": "code",
   "execution_count": 18,
   "metadata": {},
   "outputs": [
    {
     "name": "stdout",
     "output_type": "stream",
     "text": [
      "Fitting 5 folds for each of 10 candidates, totalling 50 fits\n",
      "[CV] n_estimators=20 .................................................\n",
      "[CV] .................... n_estimators=20, score=-0.028, total=   0.0s\n",
      "[CV] n_estimators=20 .................................................\n",
      "[CV] .................... n_estimators=20, score=-0.041, total=   0.0s\n",
      "[CV] n_estimators=20 .................................................\n",
      "[CV] .................... n_estimators=20, score=-0.037, total=   0.0s\n",
      "[CV] n_estimators=20 .................................................\n",
      "[CV] .................... n_estimators=20, score=-0.030, total=   0.0s\n",
      "[CV] n_estimators=20 .................................................\n",
      "[CV] .................... n_estimators=20, score=-0.033, total=   0.0s\n",
      "[CV] n_estimators=30 .................................................\n",
      "[CV] .................... n_estimators=30, score=-0.021, total=   0.0s\n",
      "[CV] n_estimators=30 .................................................\n"
     ]
    },
    {
     "name": "stderr",
     "output_type": "stream",
     "text": [
      "[Parallel(n_jobs=1)]: Using backend SequentialBackend with 1 concurrent workers.\n",
      "[Parallel(n_jobs=1)]: Done   1 out of   1 | elapsed:    0.0s remaining:    0.0s\n",
      "[Parallel(n_jobs=1)]: Done   2 out of   2 | elapsed:    0.0s remaining:    0.0s\n"
     ]
    },
    {
     "name": "stdout",
     "output_type": "stream",
     "text": [
      "[CV] .................... n_estimators=30, score=-0.032, total=   0.1s\n",
      "[CV] n_estimators=30 .................................................\n",
      "[CV] .................... n_estimators=30, score=-0.030, total=   0.0s\n",
      "[CV] n_estimators=30 .................................................\n",
      "[CV] .................... n_estimators=30, score=-0.025, total=   0.0s\n",
      "[CV] n_estimators=30 .................................................\n",
      "[CV] .................... n_estimators=30, score=-0.028, total=   0.0s\n",
      "[CV] n_estimators=40 .................................................\n",
      "[CV] .................... n_estimators=40, score=-0.019, total=   0.1s\n",
      "[CV] n_estimators=40 .................................................\n",
      "[CV] .................... n_estimators=40, score=-0.029, total=   0.0s\n",
      "[CV] n_estimators=40 .................................................\n",
      "[CV] .................... n_estimators=40, score=-0.027, total=   0.0s\n",
      "[CV] n_estimators=40 .................................................\n",
      "[CV] .................... n_estimators=40, score=-0.022, total=   0.1s\n",
      "[CV] n_estimators=40 .................................................\n",
      "[CV] .................... n_estimators=40, score=-0.026, total=   0.0s\n",
      "[CV] n_estimators=50 .................................................\n",
      "[CV] .................... n_estimators=50, score=-0.017, total=   0.1s\n",
      "[CV] n_estimators=50 .................................................\n",
      "[CV] .................... n_estimators=50, score=-0.028, total=   0.1s\n",
      "[CV] n_estimators=50 .................................................\n",
      "[CV] .................... n_estimators=50, score=-0.025, total=   0.1s\n",
      "[CV] n_estimators=50 .................................................\n",
      "[CV] .................... n_estimators=50, score=-0.021, total=   0.0s\n",
      "[CV] n_estimators=50 .................................................\n",
      "[CV] .................... n_estimators=50, score=-0.025, total=   0.1s\n",
      "[CV] n_estimators=60 .................................................\n",
      "[CV] .................... n_estimators=60, score=-0.017, total=   0.1s\n",
      "[CV] n_estimators=60 .................................................\n",
      "[CV] .................... n_estimators=60, score=-0.026, total=   0.1s\n",
      "[CV] n_estimators=60 .................................................\n",
      "[CV] .................... n_estimators=60, score=-0.024, total=   0.1s\n",
      "[CV] n_estimators=60 .................................................\n",
      "[CV] .................... n_estimators=60, score=-0.020, total=   0.1s\n",
      "[CV] n_estimators=60 .................................................\n",
      "[CV] .................... n_estimators=60, score=-0.024, total=   0.2s\n",
      "[CV] n_estimators=70 .................................................\n",
      "[CV] .................... n_estimators=70, score=-0.017, total=   0.1s\n",
      "[CV] n_estimators=70 .................................................\n",
      "[CV] .................... n_estimators=70, score=-0.025, total=   0.1s\n",
      "[CV] n_estimators=70 .................................................\n",
      "[CV] .................... n_estimators=70, score=-0.024, total=   0.1s\n",
      "[CV] n_estimators=70 .................................................\n",
      "[CV] .................... n_estimators=70, score=-0.020, total=   0.1s\n",
      "[CV] n_estimators=70 .................................................\n",
      "[CV] .................... n_estimators=70, score=-0.024, total=   0.1s\n",
      "[CV] n_estimators=80 .................................................\n",
      "[CV] .................... n_estimators=80, score=-0.016, total=   0.1s\n",
      "[CV] n_estimators=80 .................................................\n",
      "[CV] .................... n_estimators=80, score=-0.025, total=   0.1s\n",
      "[CV] n_estimators=80 .................................................\n",
      "[CV] .................... n_estimators=80, score=-0.023, total=   0.2s\n",
      "[CV] n_estimators=80 .................................................\n",
      "[CV] .................... n_estimators=80, score=-0.020, total=   0.1s\n",
      "[CV] n_estimators=80 .................................................\n",
      "[CV] .................... n_estimators=80, score=-0.023, total=   0.1s\n",
      "[CV] n_estimators=90 .................................................\n",
      "[CV] .................... n_estimators=90, score=-0.016, total=   0.1s\n",
      "[CV] n_estimators=90 .................................................\n",
      "[CV] .................... n_estimators=90, score=-0.025, total=   0.1s\n",
      "[CV] n_estimators=90 .................................................\n",
      "[CV] .................... n_estimators=90, score=-0.023, total=   0.1s\n",
      "[CV] n_estimators=90 .................................................\n",
      "[CV] .................... n_estimators=90, score=-0.020, total=   0.1s\n",
      "[CV] n_estimators=90 .................................................\n",
      "[CV] .................... n_estimators=90, score=-0.024, total=   0.1s\n",
      "[CV] n_estimators=100 ................................................\n",
      "[CV] ................... n_estimators=100, score=-0.016, total=   0.1s\n",
      "[CV] n_estimators=100 ................................................\n",
      "[CV] ................... n_estimators=100, score=-0.024, total=   0.1s\n",
      "[CV] n_estimators=100 ................................................\n",
      "[CV] ................... n_estimators=100, score=-0.023, total=   0.1s\n",
      "[CV] n_estimators=100 ................................................\n",
      "[CV] ................... n_estimators=100, score=-0.019, total=   0.1s\n",
      "[CV] n_estimators=100 ................................................\n",
      "[CV] ................... n_estimators=100, score=-0.023, total=   0.1s\n",
      "[CV] n_estimators=110 ................................................\n",
      "[CV] ................... n_estimators=110, score=-0.016, total=   0.1s\n",
      "[CV] n_estimators=110 ................................................\n",
      "[CV] ................... n_estimators=110, score=-0.024, total=   0.2s\n",
      "[CV] n_estimators=110 ................................................\n",
      "[CV] ................... n_estimators=110, score=-0.022, total=   0.1s\n",
      "[CV] n_estimators=110 ................................................\n",
      "[CV] ................... n_estimators=110, score=-0.019, total=   0.1s\n",
      "[CV] n_estimators=110 ................................................\n",
      "[CV] ................... n_estimators=110, score=-0.023, total=   0.2s\n"
     ]
    },
    {
     "name": "stderr",
     "output_type": "stream",
     "text": [
      "[Parallel(n_jobs=1)]: Done  50 out of  50 | elapsed:    4.2s finished\n"
     ]
    },
    {
     "data": {
      "text/plain": [
       "GridSearchCV(cv=5, error_score=nan,\n",
       "             estimator=GradientBoostingRegressor(alpha=0.9, ccp_alpha=0.0,\n",
       "                                                 criterion='friedman_mse',\n",
       "                                                 init=None, learning_rate=0.1,\n",
       "                                                 loss='ls', max_depth=8,\n",
       "                                                 max_features='sqrt',\n",
       "                                                 max_leaf_nodes=None,\n",
       "                                                 min_impurity_decrease=0.0,\n",
       "                                                 min_impurity_split=None,\n",
       "                                                 min_samples_leaf=50,\n",
       "                                                 min_samples_split=15,\n",
       "                                                 min_weight_fraction_leaf=0.0,\n",
       "                                                 n_estimators=100,\n",
       "                                                 n_iter_no_change=None,\n",
       "                                                 presort='deprecated',\n",
       "                                                 random_state=10, subsample=0.8,\n",
       "                                                 tol=0.0001,\n",
       "                                                 validation_fraction=0.1,\n",
       "                                                 verbose=0, warm_start=False),\n",
       "             iid='deprecated', n_jobs=1,\n",
       "             param_grid={'n_estimators': array([ 20,  30,  40,  50,  60,  70,  80,  90, 100, 110])},\n",
       "             pre_dispatch='2*n_jobs', refit=True, return_train_score=False,\n",
       "             scoring='neg_mean_squared_error', verbose=3)"
      ]
     },
     "execution_count": 18,
     "metadata": {},
     "output_type": "execute_result"
    }
   ],
   "source": [
    "param_test1 = {\n",
    "    'n_estimators': np.arange(20,111,10)\n",
    "}\n",
    "gsearch1= GridSearchCV(estimator= GradientBoostingRegressor(learning_rate=0.1, min_samples_split=15, min_samples_leaf=50, max_depth=8,\n",
    "                                              max_features='sqrt', subsample=0.8, random_state=10), param_grid= param_test1, \n",
    "                                              scoring = 'neg_mean_squared_error',n_jobs=1,cv=5,verbose=3)\n",
    "gsearch1.fit(X,y)"
   ]
  },
  {
   "cell_type": "code",
   "execution_count": 19,
   "metadata": {},
   "outputs": [
    {
     "data": {
      "text/plain": [
       "0.1448"
      ]
     },
     "execution_count": 19,
     "metadata": {},
     "output_type": "execute_result"
    }
   ],
   "source": [
    "best_score = np.sqrt(-gsearch1.best_score_)\n",
    "np.round(best_score, 4)"
   ]
  },
  {
   "cell_type": "code",
   "execution_count": 20,
   "metadata": {},
   "outputs": [
    {
     "data": {
      "text/plain": [
       "{'n_estimators': 110}"
      ]
     },
     "execution_count": 20,
     "metadata": {},
     "output_type": "execute_result"
    }
   ],
   "source": [
    "gsearch1.best_params_"
   ]
  },
  {
   "cell_type": "code",
   "execution_count": 21,
   "metadata": {},
   "outputs": [
    {
     "name": "stdout",
     "output_type": "stream",
     "text": [
      "Fitting 5 folds for each of 60 candidates, totalling 300 fits\n",
      "[CV] max_depth=5, min_samples_split=5 ................................\n",
      "[CV] ... max_depth=5, min_samples_split=5, score=-0.017, total=   0.1s\n",
      "[CV] max_depth=5, min_samples_split=5 ................................\n"
     ]
    },
    {
     "name": "stderr",
     "output_type": "stream",
     "text": [
      "[Parallel(n_jobs=1)]: Using backend SequentialBackend with 1 concurrent workers.\n",
      "[Parallel(n_jobs=1)]: Done   1 out of   1 | elapsed:    0.0s remaining:    0.0s\n"
     ]
    },
    {
     "name": "stdout",
     "output_type": "stream",
     "text": [
      "[CV] ... max_depth=5, min_samples_split=5, score=-0.022, total=   0.1s\n",
      "[CV] max_depth=5, min_samples_split=5 ................................\n",
      "[CV] ... max_depth=5, min_samples_split=5, score=-0.020, total=   0.2s\n",
      "[CV] max_depth=5, min_samples_split=5 ................................\n"
     ]
    },
    {
     "name": "stderr",
     "output_type": "stream",
     "text": [
      "[Parallel(n_jobs=1)]: Done   2 out of   2 | elapsed:    0.2s remaining:    0.0s\n"
     ]
    },
    {
     "name": "stdout",
     "output_type": "stream",
     "text": [
      "[CV] ... max_depth=5, min_samples_split=5, score=-0.019, total=   0.1s\n",
      "[CV] max_depth=5, min_samples_split=5 ................................\n",
      "[CV] ... max_depth=5, min_samples_split=5, score=-0.020, total=   0.1s\n",
      "[CV] max_depth=5, min_samples_split=8 ................................\n",
      "[CV] ... max_depth=5, min_samples_split=8, score=-0.016, total=   0.1s\n",
      "[CV] max_depth=5, min_samples_split=8 ................................\n",
      "[CV] ... max_depth=5, min_samples_split=8, score=-0.022, total=   0.1s\n",
      "[CV] max_depth=5, min_samples_split=8 ................................\n",
      "[CV] ... max_depth=5, min_samples_split=8, score=-0.020, total=   0.1s\n",
      "[CV] max_depth=5, min_samples_split=8 ................................\n",
      "[CV] ... max_depth=5, min_samples_split=8, score=-0.017, total=   0.2s\n",
      "[CV] max_depth=5, min_samples_split=8 ................................\n",
      "[CV] ... max_depth=5, min_samples_split=8, score=-0.021, total=   0.2s\n",
      "[CV] max_depth=5, min_samples_split=11 ...............................\n",
      "[CV] .. max_depth=5, min_samples_split=11, score=-0.015, total=   0.1s\n",
      "[CV] max_depth=5, min_samples_split=11 ...............................\n",
      "[CV] .. max_depth=5, min_samples_split=11, score=-0.023, total=   0.1s\n",
      "[CV] max_depth=5, min_samples_split=11 ...............................\n",
      "[CV] .. max_depth=5, min_samples_split=11, score=-0.020, total=   0.1s\n",
      "[CV] max_depth=5, min_samples_split=11 ...............................\n",
      "[CV] .. max_depth=5, min_samples_split=11, score=-0.018, total=   0.2s\n",
      "[CV] max_depth=5, min_samples_split=11 ...............................\n",
      "[CV] .. max_depth=5, min_samples_split=11, score=-0.021, total=   0.2s\n",
      "[CV] max_depth=5, min_samples_split=14 ...............................\n",
      "[CV] .. max_depth=5, min_samples_split=14, score=-0.016, total=   0.1s\n",
      "[CV] max_depth=5, min_samples_split=14 ...............................\n",
      "[CV] .. max_depth=5, min_samples_split=14, score=-0.024, total=   0.1s\n",
      "[CV] max_depth=5, min_samples_split=14 ...............................\n",
      "[CV] .. max_depth=5, min_samples_split=14, score=-0.020, total=   0.1s\n",
      "[CV] max_depth=5, min_samples_split=14 ...............................\n",
      "[CV] .. max_depth=5, min_samples_split=14, score=-0.018, total=   0.2s\n",
      "[CV] max_depth=5, min_samples_split=14 ...............................\n",
      "[CV] .. max_depth=5, min_samples_split=14, score=-0.021, total=   0.2s\n",
      "[CV] max_depth=5, min_samples_split=17 ...............................\n",
      "[CV] .. max_depth=5, min_samples_split=17, score=-0.017, total=   0.1s\n",
      "[CV] max_depth=5, min_samples_split=17 ...............................\n",
      "[CV] .. max_depth=5, min_samples_split=17, score=-0.023, total=   0.2s\n",
      "[CV] max_depth=5, min_samples_split=17 ...............................\n",
      "[CV] .. max_depth=5, min_samples_split=17, score=-0.020, total=   0.1s\n",
      "[CV] max_depth=5, min_samples_split=17 ...............................\n",
      "[CV] .. max_depth=5, min_samples_split=17, score=-0.018, total=   0.1s\n",
      "[CV] max_depth=5, min_samples_split=17 ...............................\n",
      "[CV] .. max_depth=5, min_samples_split=17, score=-0.020, total=   0.1s\n",
      "[CV] max_depth=5, min_samples_split=20 ...............................\n",
      "[CV] .. max_depth=5, min_samples_split=20, score=-0.017, total=   0.1s\n",
      "[CV] max_depth=5, min_samples_split=20 ...............................\n",
      "[CV] .. max_depth=5, min_samples_split=20, score=-0.024, total=   0.1s\n",
      "[CV] max_depth=5, min_samples_split=20 ...............................\n",
      "[CV] .. max_depth=5, min_samples_split=20, score=-0.020, total=   0.1s\n",
      "[CV] max_depth=5, min_samples_split=20 ...............................\n",
      "[CV] .. max_depth=5, min_samples_split=20, score=-0.019, total=   0.1s\n",
      "[CV] max_depth=5, min_samples_split=20 ...............................\n",
      "[CV] .. max_depth=5, min_samples_split=20, score=-0.021, total=   0.2s\n",
      "[CV] max_depth=5, min_samples_split=23 ...............................\n",
      "[CV] .. max_depth=5, min_samples_split=23, score=-0.015, total=   0.2s\n",
      "[CV] max_depth=5, min_samples_split=23 ...............................\n",
      "[CV] .. max_depth=5, min_samples_split=23, score=-0.024, total=   0.1s\n",
      "[CV] max_depth=5, min_samples_split=23 ...............................\n",
      "[CV] .. max_depth=5, min_samples_split=23, score=-0.019, total=   0.1s\n",
      "[CV] max_depth=5, min_samples_split=23 ...............................\n",
      "[CV] .. max_depth=5, min_samples_split=23, score=-0.018, total=   0.2s\n",
      "[CV] max_depth=5, min_samples_split=23 ...............................\n",
      "[CV] .. max_depth=5, min_samples_split=23, score=-0.020, total=   0.1s\n",
      "[CV] max_depth=5, min_samples_split=26 ...............................\n",
      "[CV] .. max_depth=5, min_samples_split=26, score=-0.016, total=   0.1s\n",
      "[CV] max_depth=5, min_samples_split=26 ...............................\n",
      "[CV] .. max_depth=5, min_samples_split=26, score=-0.023, total=   0.2s\n",
      "[CV] max_depth=5, min_samples_split=26 ...............................\n",
      "[CV] .. max_depth=5, min_samples_split=26, score=-0.020, total=   0.1s\n",
      "[CV] max_depth=5, min_samples_split=26 ...............................\n",
      "[CV] .. max_depth=5, min_samples_split=26, score=-0.017, total=   0.1s\n",
      "[CV] max_depth=5, min_samples_split=26 ...............................\n",
      "[CV] .. max_depth=5, min_samples_split=26, score=-0.020, total=   0.1s\n",
      "[CV] max_depth=5, min_samples_split=29 ...............................\n",
      "[CV] .. max_depth=5, min_samples_split=29, score=-0.016, total=   0.1s\n",
      "[CV] max_depth=5, min_samples_split=29 ...............................\n",
      "[CV] .. max_depth=5, min_samples_split=29, score=-0.022, total=   0.2s\n",
      "[CV] max_depth=5, min_samples_split=29 ...............................\n",
      "[CV] .. max_depth=5, min_samples_split=29, score=-0.019, total=   0.1s\n",
      "[CV] max_depth=5, min_samples_split=29 ...............................\n",
      "[CV] .. max_depth=5, min_samples_split=29, score=-0.017, total=   0.1s\n",
      "[CV] max_depth=5, min_samples_split=29 ...............................\n",
      "[CV] .. max_depth=5, min_samples_split=29, score=-0.020, total=   0.2s\n",
      "[CV] max_depth=5, min_samples_split=32 ...............................\n",
      "[CV] .. max_depth=5, min_samples_split=32, score=-0.016, total=   0.1s\n",
      "[CV] max_depth=5, min_samples_split=32 ...............................\n",
      "[CV] .. max_depth=5, min_samples_split=32, score=-0.022, total=   0.1s\n",
      "[CV] max_depth=5, min_samples_split=32 ...............................\n",
      "[CV] .. max_depth=5, min_samples_split=32, score=-0.019, total=   0.1s\n",
      "[CV] max_depth=5, min_samples_split=32 ...............................\n",
      "[CV] .. max_depth=5, min_samples_split=32, score=-0.017, total=   0.2s\n",
      "[CV] max_depth=5, min_samples_split=32 ...............................\n",
      "[CV] .. max_depth=5, min_samples_split=32, score=-0.021, total=   0.1s\n",
      "[CV] max_depth=7, min_samples_split=5 ................................\n",
      "[CV] ... max_depth=7, min_samples_split=5, score=-0.017, total=   0.1s\n",
      "[CV] max_depth=7, min_samples_split=5 ................................\n",
      "[CV] ... max_depth=7, min_samples_split=5, score=-0.022, total=   0.2s\n",
      "[CV] max_depth=7, min_samples_split=5 ................................\n",
      "[CV] ... max_depth=7, min_samples_split=5, score=-0.021, total=   0.2s\n",
      "[CV] max_depth=7, min_samples_split=5 ................................\n",
      "[CV] ... max_depth=7, min_samples_split=5, score=-0.018, total=   0.1s\n",
      "[CV] max_depth=7, min_samples_split=5 ................................\n",
      "[CV] ... max_depth=7, min_samples_split=5, score=-0.021, total=   0.3s\n",
      "[CV] max_depth=7, min_samples_split=8 ................................\n",
      "[CV] ... max_depth=7, min_samples_split=8, score=-0.017, total=   0.2s\n",
      "[CV] max_depth=7, min_samples_split=8 ................................\n",
      "[CV] ... max_depth=7, min_samples_split=8, score=-0.024, total=   0.2s\n",
      "[CV] max_depth=7, min_samples_split=8 ................................\n",
      "[CV] ... max_depth=7, min_samples_split=8, score=-0.021, total=   0.1s\n",
      "[CV] max_depth=7, min_samples_split=8 ................................\n",
      "[CV] ... max_depth=7, min_samples_split=8, score=-0.017, total=   0.2s\n",
      "[CV] max_depth=7, min_samples_split=8 ................................\n",
      "[CV] ... max_depth=7, min_samples_split=8, score=-0.020, total=   0.1s\n",
      "[CV] max_depth=7, min_samples_split=11 ...............................\n",
      "[CV] .. max_depth=7, min_samples_split=11, score=-0.017, total=   0.2s\n",
      "[CV] max_depth=7, min_samples_split=11 ...............................\n",
      "[CV] .. max_depth=7, min_samples_split=11, score=-0.024, total=   0.1s\n",
      "[CV] max_depth=7, min_samples_split=11 ...............................\n"
     ]
    },
    {
     "name": "stdout",
     "output_type": "stream",
     "text": [
      "[CV] .. max_depth=7, min_samples_split=11, score=-0.020, total=   0.2s\n",
      "[CV] max_depth=7, min_samples_split=11 ...............................\n",
      "[CV] .. max_depth=7, min_samples_split=11, score=-0.017, total=   0.2s\n",
      "[CV] max_depth=7, min_samples_split=11 ...............................\n",
      "[CV] .. max_depth=7, min_samples_split=11, score=-0.020, total=   0.2s\n",
      "[CV] max_depth=7, min_samples_split=14 ...............................\n",
      "[CV] .. max_depth=7, min_samples_split=14, score=-0.017, total=   0.2s\n",
      "[CV] max_depth=7, min_samples_split=14 ...............................\n",
      "[CV] .. max_depth=7, min_samples_split=14, score=-0.023, total=   0.2s\n",
      "[CV] max_depth=7, min_samples_split=14 ...............................\n",
      "[CV] .. max_depth=7, min_samples_split=14, score=-0.020, total=   0.2s\n",
      "[CV] max_depth=7, min_samples_split=14 ...............................\n",
      "[CV] .. max_depth=7, min_samples_split=14, score=-0.017, total=   0.2s\n",
      "[CV] max_depth=7, min_samples_split=14 ...............................\n",
      "[CV] .. max_depth=7, min_samples_split=14, score=-0.021, total=   0.1s\n",
      "[CV] max_depth=7, min_samples_split=17 ...............................\n",
      "[CV] .. max_depth=7, min_samples_split=17, score=-0.017, total=   0.2s\n",
      "[CV] max_depth=7, min_samples_split=17 ...............................\n",
      "[CV] .. max_depth=7, min_samples_split=17, score=-0.023, total=   0.2s\n",
      "[CV] max_depth=7, min_samples_split=17 ...............................\n",
      "[CV] .. max_depth=7, min_samples_split=17, score=-0.021, total=   0.3s\n",
      "[CV] max_depth=7, min_samples_split=17 ...............................\n",
      "[CV] .. max_depth=7, min_samples_split=17, score=-0.017, total=   0.1s\n",
      "[CV] max_depth=7, min_samples_split=17 ...............................\n",
      "[CV] .. max_depth=7, min_samples_split=17, score=-0.021, total=   0.2s\n",
      "[CV] max_depth=7, min_samples_split=20 ...............................\n",
      "[CV] .. max_depth=7, min_samples_split=20, score=-0.016, total=   0.1s\n",
      "[CV] max_depth=7, min_samples_split=20 ...............................\n",
      "[CV] .. max_depth=7, min_samples_split=20, score=-0.024, total=   0.1s\n",
      "[CV] max_depth=7, min_samples_split=20 ...............................\n",
      "[CV] .. max_depth=7, min_samples_split=20, score=-0.022, total=   0.1s\n",
      "[CV] max_depth=7, min_samples_split=20 ...............................\n",
      "[CV] .. max_depth=7, min_samples_split=20, score=-0.016, total=   0.2s\n",
      "[CV] max_depth=7, min_samples_split=20 ...............................\n",
      "[CV] .. max_depth=7, min_samples_split=20, score=-0.019, total=   0.2s\n",
      "[CV] max_depth=7, min_samples_split=23 ...............................\n",
      "[CV] .. max_depth=7, min_samples_split=23, score=-0.018, total=   0.2s\n",
      "[CV] max_depth=7, min_samples_split=23 ...............................\n",
      "[CV] .. max_depth=7, min_samples_split=23, score=-0.024, total=   0.2s\n",
      "[CV] max_depth=7, min_samples_split=23 ...............................\n",
      "[CV] .. max_depth=7, min_samples_split=23, score=-0.022, total=   0.1s\n",
      "[CV] max_depth=7, min_samples_split=23 ...............................\n",
      "[CV] .. max_depth=7, min_samples_split=23, score=-0.017, total=   0.1s\n",
      "[CV] max_depth=7, min_samples_split=23 ...............................\n",
      "[CV] .. max_depth=7, min_samples_split=23, score=-0.020, total=   0.2s\n",
      "[CV] max_depth=7, min_samples_split=26 ...............................\n",
      "[CV] .. max_depth=7, min_samples_split=26, score=-0.016, total=   0.1s\n",
      "[CV] max_depth=7, min_samples_split=26 ...............................\n",
      "[CV] .. max_depth=7, min_samples_split=26, score=-0.026, total=   0.1s\n",
      "[CV] max_depth=7, min_samples_split=26 ...............................\n",
      "[CV] .. max_depth=7, min_samples_split=26, score=-0.021, total=   0.2s\n",
      "[CV] max_depth=7, min_samples_split=26 ...............................\n",
      "[CV] .. max_depth=7, min_samples_split=26, score=-0.018, total=   0.1s\n",
      "[CV] max_depth=7, min_samples_split=26 ...............................\n",
      "[CV] .. max_depth=7, min_samples_split=26, score=-0.021, total=   0.2s\n",
      "[CV] max_depth=7, min_samples_split=29 ...............................\n",
      "[CV] .. max_depth=7, min_samples_split=29, score=-0.017, total=   0.2s\n",
      "[CV] max_depth=7, min_samples_split=29 ...............................\n",
      "[CV] .. max_depth=7, min_samples_split=29, score=-0.024, total=   0.2s\n",
      "[CV] max_depth=7, min_samples_split=29 ...............................\n",
      "[CV] .. max_depth=7, min_samples_split=29, score=-0.020, total=   0.1s\n",
      "[CV] max_depth=7, min_samples_split=29 ...............................\n",
      "[CV] .. max_depth=7, min_samples_split=29, score=-0.017, total=   0.2s\n",
      "[CV] max_depth=7, min_samples_split=29 ...............................\n",
      "[CV] .. max_depth=7, min_samples_split=29, score=-0.020, total=   0.1s\n",
      "[CV] max_depth=7, min_samples_split=32 ...............................\n",
      "[CV] .. max_depth=7, min_samples_split=32, score=-0.016, total=   0.2s\n",
      "[CV] max_depth=7, min_samples_split=32 ...............................\n",
      "[CV] .. max_depth=7, min_samples_split=32, score=-0.023, total=   0.2s\n",
      "[CV] max_depth=7, min_samples_split=32 ...............................\n",
      "[CV] .. max_depth=7, min_samples_split=32, score=-0.020, total=   0.1s\n",
      "[CV] max_depth=7, min_samples_split=32 ...............................\n",
      "[CV] .. max_depth=7, min_samples_split=32, score=-0.016, total=   0.1s\n",
      "[CV] max_depth=7, min_samples_split=32 ...............................\n",
      "[CV] .. max_depth=7, min_samples_split=32, score=-0.020, total=   0.1s\n",
      "[CV] max_depth=9, min_samples_split=5 ................................\n",
      "[CV] ... max_depth=9, min_samples_split=5, score=-0.017, total=   0.2s\n",
      "[CV] max_depth=9, min_samples_split=5 ................................\n",
      "[CV] ... max_depth=9, min_samples_split=5, score=-0.025, total=   0.2s\n",
      "[CV] max_depth=9, min_samples_split=5 ................................\n",
      "[CV] ... max_depth=9, min_samples_split=5, score=-0.024, total=   0.2s\n",
      "[CV] max_depth=9, min_samples_split=5 ................................\n",
      "[CV] ... max_depth=9, min_samples_split=5, score=-0.019, total=   0.2s\n",
      "[CV] max_depth=9, min_samples_split=5 ................................\n",
      "[CV] ... max_depth=9, min_samples_split=5, score=-0.021, total=   0.2s\n",
      "[CV] max_depth=9, min_samples_split=8 ................................\n",
      "[CV] ... max_depth=9, min_samples_split=8, score=-0.017, total=   0.3s\n",
      "[CV] max_depth=9, min_samples_split=8 ................................\n",
      "[CV] ... max_depth=9, min_samples_split=8, score=-0.025, total=   0.2s\n",
      "[CV] max_depth=9, min_samples_split=8 ................................\n",
      "[CV] ... max_depth=9, min_samples_split=8, score=-0.022, total=   0.2s\n",
      "[CV] max_depth=9, min_samples_split=8 ................................\n",
      "[CV] ... max_depth=9, min_samples_split=8, score=-0.019, total=   0.2s\n",
      "[CV] max_depth=9, min_samples_split=8 ................................\n",
      "[CV] ... max_depth=9, min_samples_split=8, score=-0.020, total=   0.2s\n",
      "[CV] max_depth=9, min_samples_split=11 ...............................\n",
      "[CV] .. max_depth=9, min_samples_split=11, score=-0.017, total=   0.2s\n",
      "[CV] max_depth=9, min_samples_split=11 ...............................\n",
      "[CV] .. max_depth=9, min_samples_split=11, score=-0.022, total=   0.2s\n",
      "[CV] max_depth=9, min_samples_split=11 ...............................\n",
      "[CV] .. max_depth=9, min_samples_split=11, score=-0.023, total=   0.2s\n",
      "[CV] max_depth=9, min_samples_split=11 ...............................\n",
      "[CV] .. max_depth=9, min_samples_split=11, score=-0.018, total=   0.2s\n",
      "[CV] max_depth=9, min_samples_split=11 ...............................\n",
      "[CV] .. max_depth=9, min_samples_split=11, score=-0.022, total=   0.2s\n",
      "[CV] max_depth=9, min_samples_split=14 ...............................\n",
      "[CV] .. max_depth=9, min_samples_split=14, score=-0.017, total=   0.2s\n",
      "[CV] max_depth=9, min_samples_split=14 ...............................\n",
      "[CV] .. max_depth=9, min_samples_split=14, score=-0.024, total=   0.1s\n",
      "[CV] max_depth=9, min_samples_split=14 ...............................\n",
      "[CV] .. max_depth=9, min_samples_split=14, score=-0.022, total=   0.2s\n",
      "[CV] max_depth=9, min_samples_split=14 ...............................\n",
      "[CV] .. max_depth=9, min_samples_split=14, score=-0.016, total=   0.2s\n",
      "[CV] max_depth=9, min_samples_split=14 ...............................\n",
      "[CV] .. max_depth=9, min_samples_split=14, score=-0.022, total=   0.2s\n",
      "[CV] max_depth=9, min_samples_split=17 ...............................\n"
     ]
    },
    {
     "name": "stdout",
     "output_type": "stream",
     "text": [
      "[CV] .. max_depth=9, min_samples_split=17, score=-0.018, total=   0.2s\n",
      "[CV] max_depth=9, min_samples_split=17 ...............................\n",
      "[CV] .. max_depth=9, min_samples_split=17, score=-0.023, total=   0.2s\n",
      "[CV] max_depth=9, min_samples_split=17 ...............................\n",
      "[CV] .. max_depth=9, min_samples_split=17, score=-0.022, total=   0.1s\n",
      "[CV] max_depth=9, min_samples_split=17 ...............................\n",
      "[CV] .. max_depth=9, min_samples_split=17, score=-0.017, total=   0.1s\n",
      "[CV] max_depth=9, min_samples_split=17 ...............................\n",
      "[CV] .. max_depth=9, min_samples_split=17, score=-0.021, total=   0.3s\n",
      "[CV] max_depth=9, min_samples_split=20 ...............................\n",
      "[CV] .. max_depth=9, min_samples_split=20, score=-0.017, total=   0.2s\n",
      "[CV] max_depth=9, min_samples_split=20 ...............................\n",
      "[CV] .. max_depth=9, min_samples_split=20, score=-0.025, total=   0.2s\n",
      "[CV] max_depth=9, min_samples_split=20 ...............................\n",
      "[CV] .. max_depth=9, min_samples_split=20, score=-0.022, total=   0.2s\n",
      "[CV] max_depth=9, min_samples_split=20 ...............................\n",
      "[CV] .. max_depth=9, min_samples_split=20, score=-0.017, total=   0.2s\n",
      "[CV] max_depth=9, min_samples_split=20 ...............................\n",
      "[CV] .. max_depth=9, min_samples_split=20, score=-0.020, total=   0.2s\n",
      "[CV] max_depth=9, min_samples_split=23 ...............................\n",
      "[CV] .. max_depth=9, min_samples_split=23, score=-0.017, total=   0.2s\n",
      "[CV] max_depth=9, min_samples_split=23 ...............................\n",
      "[CV] .. max_depth=9, min_samples_split=23, score=-0.024, total=   0.2s\n",
      "[CV] max_depth=9, min_samples_split=23 ...............................\n",
      "[CV] .. max_depth=9, min_samples_split=23, score=-0.020, total=   0.2s\n",
      "[CV] max_depth=9, min_samples_split=23 ...............................\n",
      "[CV] .. max_depth=9, min_samples_split=23, score=-0.018, total=   0.2s\n",
      "[CV] max_depth=9, min_samples_split=23 ...............................\n",
      "[CV] .. max_depth=9, min_samples_split=23, score=-0.020, total=   0.1s\n",
      "[CV] max_depth=9, min_samples_split=26 ...............................\n",
      "[CV] .. max_depth=9, min_samples_split=26, score=-0.018, total=   0.2s\n",
      "[CV] max_depth=9, min_samples_split=26 ...............................\n",
      "[CV] .. max_depth=9, min_samples_split=26, score=-0.025, total=   0.2s\n",
      "[CV] max_depth=9, min_samples_split=26 ...............................\n",
      "[CV] .. max_depth=9, min_samples_split=26, score=-0.021, total=   0.2s\n",
      "[CV] max_depth=9, min_samples_split=26 ...............................\n",
      "[CV] .. max_depth=9, min_samples_split=26, score=-0.018, total=   0.2s\n",
      "[CV] max_depth=9, min_samples_split=26 ...............................\n",
      "[CV] .. max_depth=9, min_samples_split=26, score=-0.020, total=   0.2s\n",
      "[CV] max_depth=9, min_samples_split=29 ...............................\n",
      "[CV] .. max_depth=9, min_samples_split=29, score=-0.016, total=   0.1s\n",
      "[CV] max_depth=9, min_samples_split=29 ...............................\n",
      "[CV] .. max_depth=9, min_samples_split=29, score=-0.022, total=   0.2s\n",
      "[CV] max_depth=9, min_samples_split=29 ...............................\n",
      "[CV] .. max_depth=9, min_samples_split=29, score=-0.022, total=   0.2s\n",
      "[CV] max_depth=9, min_samples_split=29 ...............................\n",
      "[CV] .. max_depth=9, min_samples_split=29, score=-0.017, total=   0.2s\n",
      "[CV] max_depth=9, min_samples_split=29 ...............................\n",
      "[CV] .. max_depth=9, min_samples_split=29, score=-0.020, total=   0.2s\n",
      "[CV] max_depth=9, min_samples_split=32 ...............................\n",
      "[CV] .. max_depth=9, min_samples_split=32, score=-0.018, total=   0.2s\n",
      "[CV] max_depth=9, min_samples_split=32 ...............................\n",
      "[CV] .. max_depth=9, min_samples_split=32, score=-0.022, total=   0.1s\n",
      "[CV] max_depth=9, min_samples_split=32 ...............................\n",
      "[CV] .. max_depth=9, min_samples_split=32, score=-0.021, total=   0.2s\n",
      "[CV] max_depth=9, min_samples_split=32 ...............................\n",
      "[CV] .. max_depth=9, min_samples_split=32, score=-0.017, total=   0.1s\n",
      "[CV] max_depth=9, min_samples_split=32 ...............................\n",
      "[CV] .. max_depth=9, min_samples_split=32, score=-0.021, total=   0.1s\n",
      "[CV] max_depth=11, min_samples_split=5 ...............................\n",
      "[CV] .. max_depth=11, min_samples_split=5, score=-0.019, total=   0.3s\n",
      "[CV] max_depth=11, min_samples_split=5 ...............................\n",
      "[CV] .. max_depth=11, min_samples_split=5, score=-0.024, total=   0.2s\n",
      "[CV] max_depth=11, min_samples_split=5 ...............................\n",
      "[CV] .. max_depth=11, min_samples_split=5, score=-0.024, total=   0.2s\n",
      "[CV] max_depth=11, min_samples_split=5 ...............................\n",
      "[CV] .. max_depth=11, min_samples_split=5, score=-0.019, total=   0.2s\n",
      "[CV] max_depth=11, min_samples_split=5 ...............................\n",
      "[CV] .. max_depth=11, min_samples_split=5, score=-0.021, total=   0.2s\n",
      "[CV] max_depth=11, min_samples_split=8 ...............................\n",
      "[CV] .. max_depth=11, min_samples_split=8, score=-0.018, total=   0.2s\n",
      "[CV] max_depth=11, min_samples_split=8 ...............................\n",
      "[CV] .. max_depth=11, min_samples_split=8, score=-0.026, total=   0.2s\n",
      "[CV] max_depth=11, min_samples_split=8 ...............................\n",
      "[CV] .. max_depth=11, min_samples_split=8, score=-0.023, total=   0.2s\n",
      "[CV] max_depth=11, min_samples_split=8 ...............................\n",
      "[CV] .. max_depth=11, min_samples_split=8, score=-0.019, total=   0.2s\n",
      "[CV] max_depth=11, min_samples_split=8 ...............................\n",
      "[CV] .. max_depth=11, min_samples_split=8, score=-0.020, total=   0.2s\n",
      "[CV] max_depth=11, min_samples_split=11 ..............................\n",
      "[CV] . max_depth=11, min_samples_split=11, score=-0.018, total=   0.2s\n",
      "[CV] max_depth=11, min_samples_split=11 ..............................\n",
      "[CV] . max_depth=11, min_samples_split=11, score=-0.025, total=   0.2s\n",
      "[CV] max_depth=11, min_samples_split=11 ..............................\n",
      "[CV] . max_depth=11, min_samples_split=11, score=-0.021, total=   0.2s\n",
      "[CV] max_depth=11, min_samples_split=11 ..............................\n",
      "[CV] . max_depth=11, min_samples_split=11, score=-0.018, total=   0.2s\n",
      "[CV] max_depth=11, min_samples_split=11 ..............................\n",
      "[CV] . max_depth=11, min_samples_split=11, score=-0.022, total=   0.3s\n",
      "[CV] max_depth=11, min_samples_split=14 ..............................\n",
      "[CV] . max_depth=11, min_samples_split=14, score=-0.019, total=   0.2s\n",
      "[CV] max_depth=11, min_samples_split=14 ..............................\n",
      "[CV] . max_depth=11, min_samples_split=14, score=-0.025, total=   0.2s\n",
      "[CV] max_depth=11, min_samples_split=14 ..............................\n",
      "[CV] . max_depth=11, min_samples_split=14, score=-0.021, total=   0.2s\n",
      "[CV] max_depth=11, min_samples_split=14 ..............................\n",
      "[CV] . max_depth=11, min_samples_split=14, score=-0.018, total=   0.2s\n",
      "[CV] max_depth=11, min_samples_split=14 ..............................\n",
      "[CV] . max_depth=11, min_samples_split=14, score=-0.020, total=   0.2s\n",
      "[CV] max_depth=11, min_samples_split=17 ..............................\n",
      "[CV] . max_depth=11, min_samples_split=17, score=-0.017, total=   0.2s\n",
      "[CV] max_depth=11, min_samples_split=17 ..............................\n",
      "[CV] . max_depth=11, min_samples_split=17, score=-0.024, total=   0.2s\n",
      "[CV] max_depth=11, min_samples_split=17 ..............................\n",
      "[CV] . max_depth=11, min_samples_split=17, score=-0.022, total=   0.2s\n",
      "[CV] max_depth=11, min_samples_split=17 ..............................\n",
      "[CV] . max_depth=11, min_samples_split=17, score=-0.017, total=   0.2s\n",
      "[CV] max_depth=11, min_samples_split=17 ..............................\n",
      "[CV] . max_depth=11, min_samples_split=17, score=-0.021, total=   0.2s\n",
      "[CV] max_depth=11, min_samples_split=20 ..............................\n",
      "[CV] . max_depth=11, min_samples_split=20, score=-0.017, total=   0.2s\n",
      "[CV] max_depth=11, min_samples_split=20 ..............................\n",
      "[CV] . max_depth=11, min_samples_split=20, score=-0.024, total=   0.4s\n",
      "[CV] max_depth=11, min_samples_split=20 ..............................\n",
      "[CV] . max_depth=11, min_samples_split=20, score=-0.021, total=   0.2s\n",
      "[CV] max_depth=11, min_samples_split=20 ..............................\n",
      "[CV] . max_depth=11, min_samples_split=20, score=-0.018, total=   0.2s\n",
      "[CV] max_depth=11, min_samples_split=20 ..............................\n"
     ]
    },
    {
     "name": "stdout",
     "output_type": "stream",
     "text": [
      "[CV] . max_depth=11, min_samples_split=20, score=-0.020, total=   0.2s\n",
      "[CV] max_depth=11, min_samples_split=23 ..............................\n",
      "[CV] . max_depth=11, min_samples_split=23, score=-0.018, total=   0.2s\n",
      "[CV] max_depth=11, min_samples_split=23 ..............................\n",
      "[CV] . max_depth=11, min_samples_split=23, score=-0.022, total=   0.2s\n",
      "[CV] max_depth=11, min_samples_split=23 ..............................\n",
      "[CV] . max_depth=11, min_samples_split=23, score=-0.021, total=   0.2s\n",
      "[CV] max_depth=11, min_samples_split=23 ..............................\n",
      "[CV] . max_depth=11, min_samples_split=23, score=-0.018, total=   0.2s\n",
      "[CV] max_depth=11, min_samples_split=23 ..............................\n",
      "[CV] . max_depth=11, min_samples_split=23, score=-0.021, total=   0.4s\n",
      "[CV] max_depth=11, min_samples_split=26 ..............................\n",
      "[CV] . max_depth=11, min_samples_split=26, score=-0.018, total=   0.2s\n",
      "[CV] max_depth=11, min_samples_split=26 ..............................\n",
      "[CV] . max_depth=11, min_samples_split=26, score=-0.023, total=   0.2s\n",
      "[CV] max_depth=11, min_samples_split=26 ..............................\n",
      "[CV] . max_depth=11, min_samples_split=26, score=-0.022, total=   0.2s\n",
      "[CV] max_depth=11, min_samples_split=26 ..............................\n",
      "[CV] . max_depth=11, min_samples_split=26, score=-0.018, total=   0.2s\n",
      "[CV] max_depth=11, min_samples_split=26 ..............................\n",
      "[CV] . max_depth=11, min_samples_split=26, score=-0.021, total=   0.2s\n",
      "[CV] max_depth=11, min_samples_split=29 ..............................\n",
      "[CV] . max_depth=11, min_samples_split=29, score=-0.018, total=   0.2s\n",
      "[CV] max_depth=11, min_samples_split=29 ..............................\n",
      "[CV] . max_depth=11, min_samples_split=29, score=-0.024, total=   0.2s\n",
      "[CV] max_depth=11, min_samples_split=29 ..............................\n",
      "[CV] . max_depth=11, min_samples_split=29, score=-0.022, total=   0.2s\n",
      "[CV] max_depth=11, min_samples_split=29 ..............................\n",
      "[CV] . max_depth=11, min_samples_split=29, score=-0.017, total=   0.3s\n",
      "[CV] max_depth=11, min_samples_split=29 ..............................\n",
      "[CV] . max_depth=11, min_samples_split=29, score=-0.022, total=   0.2s\n",
      "[CV] max_depth=11, min_samples_split=32 ..............................\n",
      "[CV] . max_depth=11, min_samples_split=32, score=-0.017, total=   0.3s\n",
      "[CV] max_depth=11, min_samples_split=32 ..............................\n",
      "[CV] . max_depth=11, min_samples_split=32, score=-0.025, total=   0.1s\n",
      "[CV] max_depth=11, min_samples_split=32 ..............................\n",
      "[CV] . max_depth=11, min_samples_split=32, score=-0.024, total=   0.2s\n",
      "[CV] max_depth=11, min_samples_split=32 ..............................\n",
      "[CV] . max_depth=11, min_samples_split=32, score=-0.018, total=   0.2s\n",
      "[CV] max_depth=11, min_samples_split=32 ..............................\n",
      "[CV] . max_depth=11, min_samples_split=32, score=-0.021, total=   0.2s\n",
      "[CV] max_depth=13, min_samples_split=5 ...............................\n",
      "[CV] .. max_depth=13, min_samples_split=5, score=-0.018, total=   0.3s\n",
      "[CV] max_depth=13, min_samples_split=5 ...............................\n",
      "[CV] .. max_depth=13, min_samples_split=5, score=-0.025, total=   0.3s\n",
      "[CV] max_depth=13, min_samples_split=5 ...............................\n",
      "[CV] .. max_depth=13, min_samples_split=5, score=-0.024, total=   0.4s\n",
      "[CV] max_depth=13, min_samples_split=5 ...............................\n",
      "[CV] .. max_depth=13, min_samples_split=5, score=-0.020, total=   0.3s\n",
      "[CV] max_depth=13, min_samples_split=5 ...............................\n",
      "[CV] .. max_depth=13, min_samples_split=5, score=-0.022, total=   0.2s\n",
      "[CV] max_depth=13, min_samples_split=8 ...............................\n",
      "[CV] .. max_depth=13, min_samples_split=8, score=-0.018, total=   0.2s\n",
      "[CV] max_depth=13, min_samples_split=8 ...............................\n",
      "[CV] .. max_depth=13, min_samples_split=8, score=-0.023, total=   0.2s\n",
      "[CV] max_depth=13, min_samples_split=8 ...............................\n",
      "[CV] .. max_depth=13, min_samples_split=8, score=-0.024, total=   0.3s\n",
      "[CV] max_depth=13, min_samples_split=8 ...............................\n",
      "[CV] .. max_depth=13, min_samples_split=8, score=-0.020, total=   0.2s\n",
      "[CV] max_depth=13, min_samples_split=8 ...............................\n",
      "[CV] .. max_depth=13, min_samples_split=8, score=-0.022, total=   0.3s\n",
      "[CV] max_depth=13, min_samples_split=11 ..............................\n",
      "[CV] . max_depth=13, min_samples_split=11, score=-0.017, total=   0.3s\n",
      "[CV] max_depth=13, min_samples_split=11 ..............................\n",
      "[CV] . max_depth=13, min_samples_split=11, score=-0.025, total=   0.2s\n",
      "[CV] max_depth=13, min_samples_split=11 ..............................\n",
      "[CV] . max_depth=13, min_samples_split=11, score=-0.024, total=   0.2s\n",
      "[CV] max_depth=13, min_samples_split=11 ..............................\n",
      "[CV] . max_depth=13, min_samples_split=11, score=-0.019, total=   0.2s\n",
      "[CV] max_depth=13, min_samples_split=11 ..............................\n",
      "[CV] . max_depth=13, min_samples_split=11, score=-0.023, total=   0.3s\n",
      "[CV] max_depth=13, min_samples_split=14 ..............................\n",
      "[CV] . max_depth=13, min_samples_split=14, score=-0.019, total=   0.2s\n",
      "[CV] max_depth=13, min_samples_split=14 ..............................\n",
      "[CV] . max_depth=13, min_samples_split=14, score=-0.025, total=   0.2s\n",
      "[CV] max_depth=13, min_samples_split=14 ..............................\n",
      "[CV] . max_depth=13, min_samples_split=14, score=-0.022, total=   0.2s\n",
      "[CV] max_depth=13, min_samples_split=14 ..............................\n",
      "[CV] . max_depth=13, min_samples_split=14, score=-0.017, total=   0.2s\n",
      "[CV] max_depth=13, min_samples_split=14 ..............................\n",
      "[CV] . max_depth=13, min_samples_split=14, score=-0.020, total=   0.2s\n",
      "[CV] max_depth=13, min_samples_split=17 ..............................\n",
      "[CV] . max_depth=13, min_samples_split=17, score=-0.017, total=   0.2s\n",
      "[CV] max_depth=13, min_samples_split=17 ..............................\n",
      "[CV] . max_depth=13, min_samples_split=17, score=-0.023, total=   0.2s\n",
      "[CV] max_depth=13, min_samples_split=17 ..............................\n",
      "[CV] . max_depth=13, min_samples_split=17, score=-0.023, total=   0.2s\n",
      "[CV] max_depth=13, min_samples_split=17 ..............................\n",
      "[CV] . max_depth=13, min_samples_split=17, score=-0.017, total=   0.2s\n",
      "[CV] max_depth=13, min_samples_split=17 ..............................\n",
      "[CV] . max_depth=13, min_samples_split=17, score=-0.022, total=   0.3s\n",
      "[CV] max_depth=13, min_samples_split=20 ..............................\n",
      "[CV] . max_depth=13, min_samples_split=20, score=-0.017, total=   0.2s\n",
      "[CV] max_depth=13, min_samples_split=20 ..............................\n",
      "[CV] . max_depth=13, min_samples_split=20, score=-0.022, total=   0.2s\n",
      "[CV] max_depth=13, min_samples_split=20 ..............................\n",
      "[CV] . max_depth=13, min_samples_split=20, score=-0.023, total=   0.2s\n",
      "[CV] max_depth=13, min_samples_split=20 ..............................\n",
      "[CV] . max_depth=13, min_samples_split=20, score=-0.017, total=   0.2s\n",
      "[CV] max_depth=13, min_samples_split=20 ..............................\n",
      "[CV] . max_depth=13, min_samples_split=20, score=-0.021, total=   0.2s\n",
      "[CV] max_depth=13, min_samples_split=23 ..............................\n",
      "[CV] . max_depth=13, min_samples_split=23, score=-0.016, total=   0.2s\n",
      "[CV] max_depth=13, min_samples_split=23 ..............................\n",
      "[CV] . max_depth=13, min_samples_split=23, score=-0.024, total=   0.2s\n",
      "[CV] max_depth=13, min_samples_split=23 ..............................\n",
      "[CV] . max_depth=13, min_samples_split=23, score=-0.022, total=   0.2s\n",
      "[CV] max_depth=13, min_samples_split=23 ..............................\n",
      "[CV] . max_depth=13, min_samples_split=23, score=-0.018, total=   0.3s\n",
      "[CV] max_depth=13, min_samples_split=23 ..............................\n",
      "[CV] . max_depth=13, min_samples_split=23, score=-0.020, total=   0.3s\n",
      "[CV] max_depth=13, min_samples_split=26 ..............................\n",
      "[CV] . max_depth=13, min_samples_split=26, score=-0.017, total=   0.2s\n",
      "[CV] max_depth=13, min_samples_split=26 ..............................\n",
      "[CV] . max_depth=13, min_samples_split=26, score=-0.026, total=   0.2s\n",
      "[CV] max_depth=13, min_samples_split=26 ..............................\n"
     ]
    },
    {
     "name": "stdout",
     "output_type": "stream",
     "text": [
      "[CV] . max_depth=13, min_samples_split=26, score=-0.022, total=   0.2s\n",
      "[CV] max_depth=13, min_samples_split=26 ..............................\n",
      "[CV] . max_depth=13, min_samples_split=26, score=-0.018, total=   0.2s\n",
      "[CV] max_depth=13, min_samples_split=26 ..............................\n",
      "[CV] . max_depth=13, min_samples_split=26, score=-0.021, total=   0.2s\n",
      "[CV] max_depth=13, min_samples_split=29 ..............................\n",
      "[CV] . max_depth=13, min_samples_split=29, score=-0.018, total=   0.4s\n",
      "[CV] max_depth=13, min_samples_split=29 ..............................\n",
      "[CV] . max_depth=13, min_samples_split=29, score=-0.025, total=   0.2s\n",
      "[CV] max_depth=13, min_samples_split=29 ..............................\n",
      "[CV] . max_depth=13, min_samples_split=29, score=-0.023, total=   0.2s\n",
      "[CV] max_depth=13, min_samples_split=29 ..............................\n",
      "[CV] . max_depth=13, min_samples_split=29, score=-0.018, total=   0.2s\n",
      "[CV] max_depth=13, min_samples_split=29 ..............................\n",
      "[CV] . max_depth=13, min_samples_split=29, score=-0.022, total=   0.2s\n",
      "[CV] max_depth=13, min_samples_split=32 ..............................\n",
      "[CV] . max_depth=13, min_samples_split=32, score=-0.016, total=   0.2s\n",
      "[CV] max_depth=13, min_samples_split=32 ..............................\n",
      "[CV] . max_depth=13, min_samples_split=32, score=-0.024, total=   0.2s\n",
      "[CV] max_depth=13, min_samples_split=32 ..............................\n",
      "[CV] . max_depth=13, min_samples_split=32, score=-0.022, total=   0.2s\n",
      "[CV] max_depth=13, min_samples_split=32 ..............................\n",
      "[CV] . max_depth=13, min_samples_split=32, score=-0.016, total=   0.2s\n",
      "[CV] max_depth=13, min_samples_split=32 ..............................\n",
      "[CV] . max_depth=13, min_samples_split=32, score=-0.022, total=   0.2s\n",
      "[CV] max_depth=15, min_samples_split=5 ...............................\n",
      "[CV] .. max_depth=15, min_samples_split=5, score=-0.018, total=   0.2s\n",
      "[CV] max_depth=15, min_samples_split=5 ...............................\n",
      "[CV] .. max_depth=15, min_samples_split=5, score=-0.023, total=   0.3s\n",
      "[CV] max_depth=15, min_samples_split=5 ...............................\n",
      "[CV] .. max_depth=15, min_samples_split=5, score=-0.024, total=   0.4s\n",
      "[CV] max_depth=15, min_samples_split=5 ...............................\n",
      "[CV] .. max_depth=15, min_samples_split=5, score=-0.020, total=   0.4s\n",
      "[CV] max_depth=15, min_samples_split=5 ...............................\n",
      "[CV] .. max_depth=15, min_samples_split=5, score=-0.020, total=   0.4s\n",
      "[CV] max_depth=15, min_samples_split=8 ...............................\n",
      "[CV] .. max_depth=15, min_samples_split=8, score=-0.018, total=   0.3s\n",
      "[CV] max_depth=15, min_samples_split=8 ...............................\n",
      "[CV] .. max_depth=15, min_samples_split=8, score=-0.026, total=   0.2s\n",
      "[CV] max_depth=15, min_samples_split=8 ...............................\n",
      "[CV] .. max_depth=15, min_samples_split=8, score=-0.023, total=   0.2s\n",
      "[CV] max_depth=15, min_samples_split=8 ...............................\n",
      "[CV] .. max_depth=15, min_samples_split=8, score=-0.018, total=   0.3s\n",
      "[CV] max_depth=15, min_samples_split=8 ...............................\n",
      "[CV] .. max_depth=15, min_samples_split=8, score=-0.022, total=   0.3s\n",
      "[CV] max_depth=15, min_samples_split=11 ..............................\n",
      "[CV] . max_depth=15, min_samples_split=11, score=-0.018, total=   0.2s\n",
      "[CV] max_depth=15, min_samples_split=11 ..............................\n",
      "[CV] . max_depth=15, min_samples_split=11, score=-0.025, total=   0.2s\n",
      "[CV] max_depth=15, min_samples_split=11 ..............................\n",
      "[CV] . max_depth=15, min_samples_split=11, score=-0.022, total=   0.2s\n",
      "[CV] max_depth=15, min_samples_split=11 ..............................\n",
      "[CV] . max_depth=15, min_samples_split=11, score=-0.019, total=   0.3s\n",
      "[CV] max_depth=15, min_samples_split=11 ..............................\n",
      "[CV] . max_depth=15, min_samples_split=11, score=-0.021, total=   0.3s\n",
      "[CV] max_depth=15, min_samples_split=14 ..............................\n",
      "[CV] . max_depth=15, min_samples_split=14, score=-0.018, total=   0.3s\n",
      "[CV] max_depth=15, min_samples_split=14 ..............................\n",
      "[CV] . max_depth=15, min_samples_split=14, score=-0.024, total=   0.2s\n",
      "[CV] max_depth=15, min_samples_split=14 ..............................\n",
      "[CV] . max_depth=15, min_samples_split=14, score=-0.023, total=   0.2s\n",
      "[CV] max_depth=15, min_samples_split=14 ..............................\n",
      "[CV] . max_depth=15, min_samples_split=14, score=-0.018, total=   0.3s\n",
      "[CV] max_depth=15, min_samples_split=14 ..............................\n",
      "[CV] . max_depth=15, min_samples_split=14, score=-0.020, total=   0.3s\n",
      "[CV] max_depth=15, min_samples_split=17 ..............................\n",
      "[CV] . max_depth=15, min_samples_split=17, score=-0.017, total=   0.2s\n",
      "[CV] max_depth=15, min_samples_split=17 ..............................\n",
      "[CV] . max_depth=15, min_samples_split=17, score=-0.027, total=   0.2s\n",
      "[CV] max_depth=15, min_samples_split=17 ..............................\n",
      "[CV] . max_depth=15, min_samples_split=17, score=-0.021, total=   0.2s\n",
      "[CV] max_depth=15, min_samples_split=17 ..............................\n",
      "[CV] . max_depth=15, min_samples_split=17, score=-0.018, total=   0.2s\n",
      "[CV] max_depth=15, min_samples_split=17 ..............................\n",
      "[CV] . max_depth=15, min_samples_split=17, score=-0.019, total=   0.2s\n",
      "[CV] max_depth=15, min_samples_split=20 ..............................\n",
      "[CV] . max_depth=15, min_samples_split=20, score=-0.017, total=   0.2s\n",
      "[CV] max_depth=15, min_samples_split=20 ..............................\n",
      "[CV] . max_depth=15, min_samples_split=20, score=-0.025, total=   0.2s\n",
      "[CV] max_depth=15, min_samples_split=20 ..............................\n",
      "[CV] . max_depth=15, min_samples_split=20, score=-0.023, total=   0.2s\n",
      "[CV] max_depth=15, min_samples_split=20 ..............................\n",
      "[CV] . max_depth=15, min_samples_split=20, score=-0.018, total=   0.2s\n",
      "[CV] max_depth=15, min_samples_split=20 ..............................\n",
      "[CV] . max_depth=15, min_samples_split=20, score=-0.021, total=   0.2s\n",
      "[CV] max_depth=15, min_samples_split=23 ..............................\n",
      "[CV] . max_depth=15, min_samples_split=23, score=-0.017, total=   0.2s\n",
      "[CV] max_depth=15, min_samples_split=23 ..............................\n",
      "[CV] . max_depth=15, min_samples_split=23, score=-0.026, total=   0.2s\n",
      "[CV] max_depth=15, min_samples_split=23 ..............................\n",
      "[CV] . max_depth=15, min_samples_split=23, score=-0.022, total=   0.2s\n",
      "[CV] max_depth=15, min_samples_split=23 ..............................\n",
      "[CV] . max_depth=15, min_samples_split=23, score=-0.018, total=   0.2s\n",
      "[CV] max_depth=15, min_samples_split=23 ..............................\n",
      "[CV] . max_depth=15, min_samples_split=23, score=-0.020, total=   0.2s\n",
      "[CV] max_depth=15, min_samples_split=26 ..............................\n",
      "[CV] . max_depth=15, min_samples_split=26, score=-0.017, total=   0.2s\n",
      "[CV] max_depth=15, min_samples_split=26 ..............................\n",
      "[CV] . max_depth=15, min_samples_split=26, score=-0.024, total=   0.2s\n",
      "[CV] max_depth=15, min_samples_split=26 ..............................\n",
      "[CV] . max_depth=15, min_samples_split=26, score=-0.022, total=   0.2s\n",
      "[CV] max_depth=15, min_samples_split=26 ..............................\n",
      "[CV] . max_depth=15, min_samples_split=26, score=-0.017, total=   0.2s\n",
      "[CV] max_depth=15, min_samples_split=26 ..............................\n",
      "[CV] . max_depth=15, min_samples_split=26, score=-0.019, total=   0.2s\n",
      "[CV] max_depth=15, min_samples_split=29 ..............................\n",
      "[CV] . max_depth=15, min_samples_split=29, score=-0.017, total=   0.2s\n",
      "[CV] max_depth=15, min_samples_split=29 ..............................\n",
      "[CV] . max_depth=15, min_samples_split=29, score=-0.022, total=   0.2s\n",
      "[CV] max_depth=15, min_samples_split=29 ..............................\n",
      "[CV] . max_depth=15, min_samples_split=29, score=-0.023, total=   0.2s\n",
      "[CV] max_depth=15, min_samples_split=29 ..............................\n",
      "[CV] . max_depth=15, min_samples_split=29, score=-0.016, total=   0.2s\n",
      "[CV] max_depth=15, min_samples_split=29 ..............................\n",
      "[CV] . max_depth=15, min_samples_split=29, score=-0.021, total=   0.3s\n",
      "[CV] max_depth=15, min_samples_split=32 ..............................\n"
     ]
    },
    {
     "name": "stdout",
     "output_type": "stream",
     "text": [
      "[CV] . max_depth=15, min_samples_split=32, score=-0.017, total=   0.2s\n",
      "[CV] max_depth=15, min_samples_split=32 ..............................\n",
      "[CV] . max_depth=15, min_samples_split=32, score=-0.023, total=   0.2s\n",
      "[CV] max_depth=15, min_samples_split=32 ..............................\n",
      "[CV] . max_depth=15, min_samples_split=32, score=-0.022, total=   0.2s\n",
      "[CV] max_depth=15, min_samples_split=32 ..............................\n",
      "[CV] . max_depth=15, min_samples_split=32, score=-0.016, total=   0.2s\n",
      "[CV] max_depth=15, min_samples_split=32 ..............................\n",
      "[CV] . max_depth=15, min_samples_split=32, score=-0.019, total=   0.2s\n"
     ]
    },
    {
     "name": "stderr",
     "output_type": "stream",
     "text": [
      "[Parallel(n_jobs=1)]: Done 300 out of 300 | elapsed:   57.9s finished\n"
     ]
    },
    {
     "data": {
      "text/plain": [
       "GridSearchCV(cv=5, error_score=nan,\n",
       "             estimator=GradientBoostingRegressor(alpha=0.9, ccp_alpha=0.0,\n",
       "                                                 criterion='friedman_mse',\n",
       "                                                 init=None, learning_rate=0.1,\n",
       "                                                 loss='ls', max_depth=3,\n",
       "                                                 max_features='sqrt',\n",
       "                                                 max_leaf_nodes=None,\n",
       "                                                 min_impurity_decrease=0.0,\n",
       "                                                 min_impurity_split=None,\n",
       "                                                 min_samples_leaf=1,\n",
       "                                                 min_samples_split=2,\n",
       "                                                 min_weight_fraction_leaf=0.0,\n",
       "                                                 n_estimators=110,\n",
       "                                                 n_iter...,\n",
       "                                                 presort='deprecated',\n",
       "                                                 random_state=10, subsample=0.8,\n",
       "                                                 tol=0.0001,\n",
       "                                                 validation_fraction=0.1,\n",
       "                                                 verbose=0, warm_start=False),\n",
       "             iid='deprecated', n_jobs=1,\n",
       "             param_grid={'max_depth': array([ 5,  7,  9, 11, 13, 15]),\n",
       "                         'min_samples_split': array([ 5,  8, 11, 14, 17, 20, 23, 26, 29, 32])},\n",
       "             pre_dispatch='2*n_jobs', refit=True, return_train_score=False,\n",
       "             scoring='neg_mean_squared_error', verbose=3)"
      ]
     },
     "execution_count": 21,
     "metadata": {},
     "output_type": "execute_result"
    }
   ],
   "source": [
    "param_test2 = {\n",
    "    'max_depth': np.arange(5,16,2),\n",
    "    'min_samples_split':np.arange(5,35,3)\n",
    "}\n",
    "gsearch2= GridSearchCV(estimator= GradientBoostingRegressor(learning_rate=0.1, n_estimators=110,\n",
    "                                              max_features='sqrt', subsample=0.8, random_state=10), param_grid= param_test2, \n",
    "                                              scoring = 'neg_mean_squared_error',n_jobs=1,cv=5,verbose=3)\n",
    "gsearch2.fit(X,y)"
   ]
  },
  {
   "cell_type": "code",
   "execution_count": 22,
   "metadata": {},
   "outputs": [
    {
     "data": {
      "text/plain": [
       "0.1372"
      ]
     },
     "execution_count": 22,
     "metadata": {},
     "output_type": "execute_result"
    }
   ],
   "source": [
    "best_score = np.sqrt(-gsearch2.best_score_)\n",
    "np.round(best_score, 4)"
   ]
  },
  {
   "cell_type": "code",
   "execution_count": 24,
   "metadata": {},
   "outputs": [
    {
     "data": {
      "text/plain": [
       "{'max_depth': 5, 'min_samples_split': 32}"
      ]
     },
     "execution_count": 24,
     "metadata": {},
     "output_type": "execute_result"
    }
   ],
   "source": [
    "gsearch2.best_params_"
   ]
  },
  {
   "cell_type": "code",
   "execution_count": 31,
   "metadata": {},
   "outputs": [
    {
     "name": "stdout",
     "output_type": "stream",
     "text": [
      "Fitting 5 folds for each of 7 candidates, totalling 35 fits\n",
      "[CV] min_samples_leaf=30 .............................................\n",
      "[CV] ................ min_samples_leaf=30, score=-0.016, total=   0.2s\n",
      "[CV] min_samples_leaf=30 .............................................\n"
     ]
    },
    {
     "name": "stderr",
     "output_type": "stream",
     "text": [
      "[Parallel(n_jobs=1)]: Using backend SequentialBackend with 1 concurrent workers.\n",
      "[Parallel(n_jobs=1)]: Done   1 out of   1 | elapsed:    0.1s remaining:    0.0s\n"
     ]
    },
    {
     "name": "stdout",
     "output_type": "stream",
     "text": [
      "[CV] ................ min_samples_leaf=30, score=-0.023, total=   0.3s\n",
      "[CV] min_samples_leaf=30 .............................................\n",
      "[CV] ................ min_samples_leaf=30, score=-0.021, total=   0.1s\n",
      "[CV] min_samples_leaf=30 .............................................\n",
      "[CV] ................ min_samples_leaf=30, score=-0.018, total=   0.1s\n",
      "[CV] min_samples_leaf=30 .............................................\n"
     ]
    },
    {
     "name": "stderr",
     "output_type": "stream",
     "text": [
      "[Parallel(n_jobs=1)]: Done   2 out of   2 | elapsed:    0.3s remaining:    0.0s\n"
     ]
    },
    {
     "name": "stdout",
     "output_type": "stream",
     "text": [
      "[CV] ................ min_samples_leaf=30, score=-0.021, total=   0.1s\n",
      "[CV] min_samples_leaf=35 .............................................\n",
      "[CV] ................ min_samples_leaf=35, score=-0.016, total=   0.1s\n",
      "[CV] min_samples_leaf=35 .............................................\n",
      "[CV] ................ min_samples_leaf=35, score=-0.024, total=   0.1s\n",
      "[CV] min_samples_leaf=35 .............................................\n",
      "[CV] ................ min_samples_leaf=35, score=-0.021, total=   0.1s\n",
      "[CV] min_samples_leaf=35 .............................................\n",
      "[CV] ................ min_samples_leaf=35, score=-0.018, total=   0.1s\n",
      "[CV] min_samples_leaf=35 .............................................\n",
      "[CV] ................ min_samples_leaf=35, score=-0.022, total=   0.2s\n",
      "[CV] min_samples_leaf=40 .............................................\n",
      "[CV] ................ min_samples_leaf=40, score=-0.017, total=   0.1s\n",
      "[CV] min_samples_leaf=40 .............................................\n",
      "[CV] ................ min_samples_leaf=40, score=-0.024, total=   0.1s\n",
      "[CV] min_samples_leaf=40 .............................................\n",
      "[CV] ................ min_samples_leaf=40, score=-0.021, total=   0.1s\n",
      "[CV] min_samples_leaf=40 .............................................\n",
      "[CV] ................ min_samples_leaf=40, score=-0.019, total=   0.1s\n",
      "[CV] min_samples_leaf=40 .............................................\n",
      "[CV] ................ min_samples_leaf=40, score=-0.022, total=   0.1s\n",
      "[CV] min_samples_leaf=45 .............................................\n",
      "[CV] ................ min_samples_leaf=45, score=-0.017, total=   0.1s\n",
      "[CV] min_samples_leaf=45 .............................................\n",
      "[CV] ................ min_samples_leaf=45, score=-0.024, total=   0.1s\n",
      "[CV] min_samples_leaf=45 .............................................\n",
      "[CV] ................ min_samples_leaf=45, score=-0.022, total=   0.1s\n",
      "[CV] min_samples_leaf=45 .............................................\n",
      "[CV] ................ min_samples_leaf=45, score=-0.019, total=   0.1s\n",
      "[CV] min_samples_leaf=45 .............................................\n",
      "[CV] ................ min_samples_leaf=45, score=-0.023, total=   0.2s\n",
      "[CV] min_samples_leaf=50 .............................................\n",
      "[CV] ................ min_samples_leaf=50, score=-0.016, total=   0.1s\n",
      "[CV] min_samples_leaf=50 .............................................\n",
      "[CV] ................ min_samples_leaf=50, score=-0.024, total=   0.1s\n",
      "[CV] min_samples_leaf=50 .............................................\n",
      "[CV] ................ min_samples_leaf=50, score=-0.022, total=   0.2s\n",
      "[CV] min_samples_leaf=50 .............................................\n",
      "[CV] ................ min_samples_leaf=50, score=-0.019, total=   0.1s\n",
      "[CV] min_samples_leaf=50 .............................................\n",
      "[CV] ................ min_samples_leaf=50, score=-0.023, total=   0.1s\n",
      "[CV] min_samples_leaf=55 .............................................\n",
      "[CV] ................ min_samples_leaf=55, score=-0.017, total=   0.2s\n",
      "[CV] min_samples_leaf=55 .............................................\n",
      "[CV] ................ min_samples_leaf=55, score=-0.024, total=   0.1s\n",
      "[CV] min_samples_leaf=55 .............................................\n",
      "[CV] ................ min_samples_leaf=55, score=-0.022, total=   0.1s\n",
      "[CV] min_samples_leaf=55 .............................................\n",
      "[CV] ................ min_samples_leaf=55, score=-0.020, total=   0.1s\n",
      "[CV] min_samples_leaf=55 .............................................\n",
      "[CV] ................ min_samples_leaf=55, score=-0.023, total=   0.1s\n",
      "[CV] min_samples_leaf=60 .............................................\n",
      "[CV] ................ min_samples_leaf=60, score=-0.017, total=   0.1s\n",
      "[CV] min_samples_leaf=60 .............................................\n",
      "[CV] ................ min_samples_leaf=60, score=-0.024, total=   0.1s\n",
      "[CV] min_samples_leaf=60 .............................................\n",
      "[CV] ................ min_samples_leaf=60, score=-0.022, total=   0.1s\n",
      "[CV] min_samples_leaf=60 .............................................\n",
      "[CV] ................ min_samples_leaf=60, score=-0.020, total=   0.2s\n",
      "[CV] min_samples_leaf=60 .............................................\n",
      "[CV] ................ min_samples_leaf=60, score=-0.023, total=   0.2s\n"
     ]
    },
    {
     "name": "stderr",
     "output_type": "stream",
     "text": [
      "[Parallel(n_jobs=1)]: Done  35 out of  35 | elapsed:    4.6s finished\n"
     ]
    },
    {
     "data": {
      "text/plain": [
       "GridSearchCV(cv=5, error_score=nan,\n",
       "             estimator=GradientBoostingRegressor(alpha=0.9, ccp_alpha=0.0,\n",
       "                                                 criterion='friedman_mse',\n",
       "                                                 init=None, learning_rate=0.1,\n",
       "                                                 loss='ls', max_depth=5,\n",
       "                                                 max_features='sqrt',\n",
       "                                                 max_leaf_nodes=None,\n",
       "                                                 min_impurity_decrease=0.0,\n",
       "                                                 min_impurity_split=None,\n",
       "                                                 min_samples_leaf=1,\n",
       "                                                 min_samples_split=32,\n",
       "                                                 min_weight_fraction_leaf=0.0,\n",
       "                                                 n_estimators=110,\n",
       "                                                 n_iter_no_change=None,\n",
       "                                                 presort='deprecated',\n",
       "                                                 random_state=10, subsample=0.8,\n",
       "                                                 tol=0.0001,\n",
       "                                                 validation_fraction=0.1,\n",
       "                                                 verbose=0, warm_start=False),\n",
       "             iid='deprecated', n_jobs=1,\n",
       "             param_grid={'min_samples_leaf': array([30, 35, 40, 45, 50, 55, 60])},\n",
       "             pre_dispatch='2*n_jobs', refit=True, return_train_score=False,\n",
       "             scoring='neg_mean_squared_error', verbose=3)"
      ]
     },
     "execution_count": 31,
     "metadata": {},
     "output_type": "execute_result"
    }
   ],
   "source": [
    "param_test3 = {\n",
    "    'min_samples_leaf':np.arange(30,61,5)\n",
    "}\n",
    "gsearch3= GridSearchCV(estimator= GradientBoostingRegressor(learning_rate=0.1, n_estimators=110,max_depth=5,min_samples_split=32,\n",
    "                                              max_features='sqrt', subsample=0.8, random_state=10), param_grid= param_test3, \n",
    "                                              scoring = 'neg_mean_squared_error',n_jobs=1,cv=5,verbose=3)\n",
    "gsearch3.fit(X,y)"
   ]
  },
  {
   "cell_type": "code",
   "execution_count": 32,
   "metadata": {},
   "outputs": [
    {
     "data": {
      "text/plain": [
       "0.1418"
      ]
     },
     "execution_count": 32,
     "metadata": {},
     "output_type": "execute_result"
    }
   ],
   "source": [
    "best_score = np.sqrt(-gsearch3.best_score_)\n",
    "np.round(best_score, 4)"
   ]
  },
  {
   "cell_type": "code",
   "execution_count": 33,
   "metadata": {},
   "outputs": [
    {
     "data": {
      "text/plain": [
       "{'min_samples_leaf': 30}"
      ]
     },
     "execution_count": 33,
     "metadata": {},
     "output_type": "execute_result"
    }
   ],
   "source": [
    "gsearch3.best_params_"
   ]
  },
  {
   "cell_type": "code",
   "execution_count": 34,
   "metadata": {},
   "outputs": [
    {
     "name": "stdout",
     "output_type": "stream",
     "text": [
      "Model Report:\n",
      "Root Mean Squared Error on training set: 0.11550938970490048\n",
      "CV score-\n",
      "Mean score: 0.1415 Std: 0.0092 Min: 0.1274 Max: 0.153\n"
     ]
    },
    {
     "data": {
      "image/png": "[encoded data removed]",
      "text/plain": [
       "<Figure size 720x432 with 1 Axes>"
      ]
     },
     "metadata": {
      "needs_background": "light"
     },
     "output_type": "display_data"
    }
   ],
   "source": [
    "model_fit(gsearch3.best_estimator_, X, y)"
   ]
  },
  {
   "cell_type": "code",
   "execution_count": 35,
   "metadata": {},
   "outputs": [
    {
     "name": "stdout",
     "output_type": "stream",
     "text": [
      "Fitting 5 folds for each of 5 candidates, totalling 25 fits\n",
      "[CV] max_features=4 ..................................................\n",
      "[CV] ..................... max_features=4, score=-0.016, total=   0.1s\n",
      "[CV] max_features=4 ..................................................\n"
     ]
    },
    {
     "name": "stderr",
     "output_type": "stream",
     "text": [
      "[Parallel(n_jobs=1)]: Using backend SequentialBackend with 1 concurrent workers.\n",
      "[Parallel(n_jobs=1)]: Done   1 out of   1 | elapsed:    0.0s remaining:    0.0s\n"
     ]
    },
    {
     "name": "stdout",
     "output_type": "stream",
     "text": [
      "[CV] ..................... max_features=4, score=-0.024, total=   0.1s\n",
      "[CV] max_features=4 ..................................................\n",
      "[CV] ..................... max_features=4, score=-0.021, total=   0.1s\n",
      "[CV] max_features=4 ..................................................\n",
      "[CV] ..................... max_features=4, score=-0.020, total=   0.1s\n"
     ]
    },
    {
     "name": "stderr",
     "output_type": "stream",
     "text": [
      "[Parallel(n_jobs=1)]: Done   2 out of   2 | elapsed:    0.1s remaining:    0.0s\n"
     ]
    },
    {
     "name": "stdout",
     "output_type": "stream",
     "text": [
      "[CV] max_features=4 ..................................................\n",
      "[CV] ..................... max_features=4, score=-0.022, total=   0.1s\n",
      "[CV] max_features=6 ..................................................\n",
      "[CV] ..................... max_features=6, score=-0.016, total=   0.1s\n",
      "[CV] max_features=6 ..................................................\n",
      "[CV] ..................... max_features=6, score=-0.024, total=   0.1s\n",
      "[CV] max_features=6 ..................................................\n",
      "[CV] ..................... max_features=6, score=-0.021, total=   0.1s\n",
      "[CV] max_features=6 ..................................................\n",
      "[CV] ..................... max_features=6, score=-0.018, total=   0.1s\n",
      "[CV] max_features=6 ..................................................\n",
      "[CV] ..................... max_features=6, score=-0.021, total=   0.1s\n",
      "[CV] max_features=8 ..................................................\n",
      "[CV] ..................... max_features=8, score=-0.016, total=   0.1s\n",
      "[CV] max_features=8 ..................................................\n",
      "[CV] ..................... max_features=8, score=-0.022, total=   0.1s\n",
      "[CV] max_features=8 ..................................................\n",
      "[CV] ..................... max_features=8, score=-0.020, total=   0.1s\n",
      "[CV] max_features=8 ..................................................\n",
      "[CV] ..................... max_features=8, score=-0.018, total=   0.1s\n",
      "[CV] max_features=8 ..................................................\n",
      "[CV] ..................... max_features=8, score=-0.021, total=   0.2s\n",
      "[CV] max_features=10 .................................................\n",
      "[CV] .................... max_features=10, score=-0.016, total=   0.2s\n",
      "[CV] max_features=10 .................................................\n",
      "[CV] .................... max_features=10, score=-0.022, total=   0.1s\n",
      "[CV] max_features=10 .................................................\n",
      "[CV] .................... max_features=10, score=-0.021, total=   0.2s\n",
      "[CV] max_features=10 .................................................\n",
      "[CV] .................... max_features=10, score=-0.019, total=   0.1s\n",
      "[CV] max_features=10 .................................................\n",
      "[CV] .................... max_features=10, score=-0.021, total=   0.2s\n",
      "[CV] max_features=12 .................................................\n",
      "[CV] .................... max_features=12, score=-0.016, total=   0.2s\n",
      "[CV] max_features=12 .................................................\n",
      "[CV] .................... max_features=12, score=-0.022, total=   0.2s\n",
      "[CV] max_features=12 .................................................\n",
      "[CV] .................... max_features=12, score=-0.021, total=   0.1s\n",
      "[CV] max_features=12 .................................................\n",
      "[CV] .................... max_features=12, score=-0.018, total=   0.2s\n",
      "[CV] max_features=12 .................................................\n",
      "[CV] .................... max_features=12, score=-0.022, total=   0.2s\n"
     ]
    },
    {
     "name": "stderr",
     "output_type": "stream",
     "text": [
      "[Parallel(n_jobs=1)]: Done  25 out of  25 | elapsed:    3.3s finished\n"
     ]
    },
    {
     "data": {
      "text/plain": [
       "GridSearchCV(cv=5, error_score=nan,\n",
       "             estimator=GradientBoostingRegressor(alpha=0.9, ccp_alpha=0.0,\n",
       "                                                 criterion='friedman_mse',\n",
       "                                                 init=None, learning_rate=0.1,\n",
       "                                                 loss='ls', max_depth=5,\n",
       "                                                 max_features=None,\n",
       "                                                 max_leaf_nodes=None,\n",
       "                                                 min_impurity_decrease=0.0,\n",
       "                                                 min_impurity_split=None,\n",
       "                                                 min_samples_leaf=30,\n",
       "                                                 min_samples_split=32,\n",
       "                                                 min_weight_fraction_leaf=0.0,\n",
       "                                                 n_estimators=110,\n",
       "                                                 n_iter_no_change=None,\n",
       "                                                 presort='deprecated',\n",
       "                                                 random_state=10, subsample=0.8,\n",
       "                                                 tol=0.0001,\n",
       "                                                 validation_fraction=0.1,\n",
       "                                                 verbose=0, warm_start=False),\n",
       "             iid='deprecated', n_jobs=1,\n",
       "             param_grid={'max_features': array([ 4,  6,  8, 10, 12])},\n",
       "             pre_dispatch='2*n_jobs', refit=True, return_train_score=False,\n",
       "             scoring='neg_mean_squared_error', verbose=3)"
      ]
     },
     "execution_count": 35,
     "metadata": {},
     "output_type": "execute_result"
    }
   ],
   "source": [
    "param_test4 = {\n",
    "    'max_features':np.arange(4,14,2)\n",
    "}\n",
    "gsearch4= GridSearchCV(estimator= GradientBoostingRegressor(learning_rate=0.1, n_estimators=110,max_depth=5,min_samples_split=32,\n",
    "                                              min_samples_leaf=30, subsample=0.8, random_state=10), param_grid= param_test4, \n",
    "                                              scoring = 'neg_mean_squared_error',n_jobs=1,cv=5,verbose=3)\n",
    "gsearch4.fit(X,y)"
   ]
  },
  {
   "cell_type": "code",
   "execution_count": 36,
   "metadata": {},
   "outputs": [
    {
     "data": {
      "text/plain": [
       "0.1394"
      ]
     },
     "execution_count": 36,
     "metadata": {},
     "output_type": "execute_result"
    }
   ],
   "source": [
    "best_score = np.sqrt(-gsearch4.best_score_)\n",
    "np.round(best_score, 4)"
   ]
  },
  {
   "cell_type": "code",
   "execution_count": 37,
   "metadata": {},
   "outputs": [
    {
     "data": {
      "text/plain": [
       "{'max_features': 8}"
      ]
     },
     "execution_count": 37,
     "metadata": {},
     "output_type": "execute_result"
    }
   ],
   "source": [
    "gsearch4.best_params_"
   ]
  },
  {
   "cell_type": "markdown",
   "metadata": {},
   "source": [
    "## Tune Subsample and lower learning rate:"
   ]
  },
  {
   "cell_type": "code",
   "execution_count": 41,
   "metadata": {},
   "outputs": [
    {
     "name": "stdout",
     "output_type": "stream",
     "text": [
      "Fitting 5 folds for each of 7 candidates, totalling 35 fits\n",
      "[CV] subsample=0.6 ...................................................\n",
      "[CV] ...................... subsample=0.6, score=-0.017, total=   0.1s\n",
      "[CV] subsample=0.6 ...................................................\n"
     ]
    },
    {
     "name": "stderr",
     "output_type": "stream",
     "text": [
      "[Parallel(n_jobs=1)]: Using backend SequentialBackend with 1 concurrent workers.\n",
      "[Parallel(n_jobs=1)]: Done   1 out of   1 | elapsed:    0.0s remaining:    0.0s\n"
     ]
    },
    {
     "name": "stdout",
     "output_type": "stream",
     "text": [
      "[CV] ...................... subsample=0.6, score=-0.023, total=   0.1s\n",
      "[CV] subsample=0.6 ...................................................\n",
      "[CV] ...................... subsample=0.6, score=-0.022, total=   0.1s\n",
      "[CV] subsample=0.6 ...................................................\n"
     ]
    },
    {
     "name": "stderr",
     "output_type": "stream",
     "text": [
      "[Parallel(n_jobs=1)]: Done   2 out of   2 | elapsed:    0.2s remaining:    0.0s\n"
     ]
    },
    {
     "name": "stdout",
     "output_type": "stream",
     "text": [
      "[CV] ...................... subsample=0.6, score=-0.018, total=   0.1s\n",
      "[CV] subsample=0.6 ...................................................\n",
      "[CV] ...................... subsample=0.6, score=-0.021, total=   0.1s\n",
      "[CV] subsample=0.65 ..................................................\n",
      "[CV] ..................... subsample=0.65, score=-0.017, total=   0.1s\n",
      "[CV] subsample=0.65 ..................................................\n",
      "[CV] ..................... subsample=0.65, score=-0.023, total=   0.1s\n",
      "[CV] subsample=0.65 ..................................................\n",
      "[CV] ..................... subsample=0.65, score=-0.020, total=   0.1s\n",
      "[CV] subsample=0.65 ..................................................\n",
      "[CV] ..................... subsample=0.65, score=-0.018, total=   0.1s\n",
      "[CV] subsample=0.65 ..................................................\n",
      "[CV] ..................... subsample=0.65, score=-0.021, total=   0.1s\n",
      "[CV] subsample=0.7 ...................................................\n",
      "[CV] ...................... subsample=0.7, score=-0.017, total=   0.1s\n",
      "[CV] subsample=0.7 ...................................................\n",
      "[CV] ...................... subsample=0.7, score=-0.023, total=   0.1s\n",
      "[CV] subsample=0.7 ...................................................\n",
      "[CV] ...................... subsample=0.7, score=-0.020, total=   0.1s\n",
      "[CV] subsample=0.7 ...................................................\n",
      "[CV] ...................... subsample=0.7, score=-0.018, total=   0.1s\n",
      "[CV] subsample=0.7 ...................................................\n",
      "[CV] ...................... subsample=0.7, score=-0.021, total=   0.1s\n",
      "[CV] subsample=0.75 ..................................................\n",
      "[CV] ..................... subsample=0.75, score=-0.016, total=   0.1s\n",
      "[CV] subsample=0.75 ..................................................\n",
      "[CV] ..................... subsample=0.75, score=-0.022, total=   0.1s\n",
      "[CV] subsample=0.75 ..................................................\n",
      "[CV] ..................... subsample=0.75, score=-0.021, total=   0.1s\n",
      "[CV] subsample=0.75 ..................................................\n",
      "[CV] ..................... subsample=0.75, score=-0.018, total=   0.1s\n",
      "[CV] subsample=0.75 ..................................................\n",
      "[CV] ..................... subsample=0.75, score=-0.020, total=   0.1s\n",
      "[CV] subsample=0.8 ...................................................\n",
      "[CV] ...................... subsample=0.8, score=-0.016, total=   0.1s\n",
      "[CV] subsample=0.8 ...................................................\n",
      "[CV] ...................... subsample=0.8, score=-0.022, total=   0.1s\n",
      "[CV] subsample=0.8 ...................................................\n",
      "[CV] ...................... subsample=0.8, score=-0.020, total=   0.1s\n",
      "[CV] subsample=0.8 ...................................................\n",
      "[CV] ...................... subsample=0.8, score=-0.018, total=   0.1s\n",
      "[CV] subsample=0.8 ...................................................\n",
      "[CV] ...................... subsample=0.8, score=-0.021, total=   0.1s\n",
      "[CV] subsample=0.85 ..................................................\n",
      "[CV] ..................... subsample=0.85, score=-0.016, total=   0.1s\n",
      "[CV] subsample=0.85 ..................................................\n",
      "[CV] ..................... subsample=0.85, score=-0.023, total=   0.1s\n",
      "[CV] subsample=0.85 ..................................................\n",
      "[CV] ..................... subsample=0.85, score=-0.020, total=   0.1s\n",
      "[CV] subsample=0.85 ..................................................\n",
      "[CV] ..................... subsample=0.85, score=-0.018, total=   0.1s\n",
      "[CV] subsample=0.85 ..................................................\n",
      "[CV] ..................... subsample=0.85, score=-0.022, total=   0.1s\n",
      "[CV] subsample=0.9 ...................................................\n",
      "[CV] ...................... subsample=0.9, score=-0.017, total=   0.1s\n",
      "[CV] subsample=0.9 ...................................................\n",
      "[CV] ...................... subsample=0.9, score=-0.023, total=   0.1s\n",
      "[CV] subsample=0.9 ...................................................\n",
      "[CV] ...................... subsample=0.9, score=-0.020, total=   0.1s\n",
      "[CV] subsample=0.9 ...................................................\n",
      "[CV] ...................... subsample=0.9, score=-0.018, total=   0.1s\n",
      "[CV] subsample=0.9 ...................................................\n",
      "[CV] ...................... subsample=0.9, score=-0.021, total=   0.1s\n"
     ]
    },
    {
     "name": "stderr",
     "output_type": "stream",
     "text": [
      "[Parallel(n_jobs=1)]: Done  35 out of  35 | elapsed:    4.2s finished\n"
     ]
    },
    {
     "data": {
      "text/plain": [
       "GridSearchCV(cv=5, error_score=nan,\n",
       "             estimator=GradientBoostingRegressor(alpha=0.9, ccp_alpha=0.0,\n",
       "                                                 criterion='friedman_mse',\n",
       "                                                 init=None, learning_rate=0.1,\n",
       "                                                 loss='ls', max_depth=5,\n",
       "                                                 max_features=8,\n",
       "                                                 max_leaf_nodes=None,\n",
       "                                                 min_impurity_decrease=0.0,\n",
       "                                                 min_impurity_split=None,\n",
       "                                                 min_samples_leaf=30,\n",
       "                                                 min_samples_split=32,\n",
       "                                                 min_weight_fraction_leaf=0.0,\n",
       "                                                 n_estimators=110,\n",
       "                                                 n_iter_no_change=None,\n",
       "                                                 presort='deprecated',\n",
       "                                                 random_state=10, subsample=1.0,\n",
       "                                                 tol=0.0001,\n",
       "                                                 validation_fraction=0.1,\n",
       "                                                 verbose=0, warm_start=False),\n",
       "             iid='deprecated', n_jobs=1,\n",
       "             param_grid={'subsample': [0.6, 0.65, 0.7, 0.75, 0.8, 0.85, 0.9]},\n",
       "             pre_dispatch='2*n_jobs', refit=True, return_train_score=False,\n",
       "             scoring='neg_mean_squared_error', verbose=3)"
      ]
     },
     "execution_count": 41,
     "metadata": {},
     "output_type": "execute_result"
    }
   ],
   "source": [
    "param_test5 = {\n",
    "    'subsample':[0.6,0.65,0.7,0.75,0.8,0.85,0.9]\n",
    "}\n",
    "gsearch5= GridSearchCV(estimator= GradientBoostingRegressor(learning_rate=0.1, n_estimators=110,max_depth=5,min_samples_split=32,\n",
    "                                              min_samples_leaf=30, max_features=8, random_state=10), param_grid= param_test5, \n",
    "                                              scoring = 'neg_mean_squared_error',n_jobs=1,cv=5,verbose=3)\n",
    "gsearch5.fit(X,y)"
   ]
  },
  {
   "cell_type": "code",
   "execution_count": 42,
   "metadata": {},
   "outputs": [
    {
     "data": {
      "text/plain": [
       "0.1394"
      ]
     },
     "execution_count": 42,
     "metadata": {},
     "output_type": "execute_result"
    }
   ],
   "source": [
    "best_score = np.sqrt(-gsearch5.best_score_)\n",
    "np.round(best_score, 4)"
   ]
  },
  {
   "cell_type": "code",
   "execution_count": 43,
   "metadata": {},
   "outputs": [
    {
     "data": {
      "text/plain": [
       "{'subsample': 0.8}"
      ]
     },
     "execution_count": 43,
     "metadata": {},
     "output_type": "execute_result"
    }
   ],
   "source": [
    "gsearch5.best_params_"
   ]
  },
  {
   "cell_type": "code",
   "execution_count": 52,
   "metadata": {},
   "outputs": [],
   "source": [
    "reg_1= GradientBoostingRegressor(learning_rate=0.1, n_estimators=110, max_depth=5, min_samples_split=32,\n",
    "                                              max_features='sqrt', subsample=0.8, random_state=10)"
   ]
  },
  {
   "cell_type": "code",
   "execution_count": 53,
   "metadata": {},
   "outputs": [
    {
     "name": "stdout",
     "output_type": "stream",
     "text": [
      "Model Report:\n",
      "Root Mean Squared Error on training set: 0.09029985352158508\n",
      "CV score-\n",
      "Mean score: 0.137 Std: 0.0081 Min: 0.1259 Max: 0.1471\n"
     ]
    },
    {
     "data": {
      "image/png": "[encoded data removed]",
      "text/plain": [
       "<Figure size 720x432 with 1 Axes>"
      ]
     },
     "metadata": {
      "needs_background": "light"
     },
     "output_type": "display_data"
    }
   ],
   "source": [
    "model_fit(reg_1, X, y)"
   ]
  },
  {
   "cell_type": "code",
   "execution_count": 54,
   "metadata": {},
   "outputs": [],
   "source": [
    "y_pred = reg_1.predict(test)\n",
    "submission = pd.DataFrame({'Id': test_Id, 'SalePrice': y_pred})\n",
    "submission['SalePrice'] = submission['SalePrice']\n",
    "submission.to_csv('submission-GBM-tuned-1.csv', index=False)"
   ]
  },
  {
   "cell_type": "code",
   "execution_count": null,
   "metadata": {},
   "outputs": [],
   "source": []
  },
  {
   "cell_type": "code",
   "execution_count": 55,
   "metadata": {},
   "outputs": [
    {
     "name": "stdout",
     "output_type": "stream",
     "text": [
      "Model Report:\n",
      "Root Mean Squared Error on training set: 0.08934196136702814\n",
      "CV score-\n",
      "Mean score: 0.1357 Std: 0.0073 Min: 0.1271 Max: 0.1465\n"
     ]
    },
    {
     "data": {
      "image/png": "[encoded data removed]",
      "text/plain": [
       "<Figure size 720x432 with 1 Axes>"
      ]
     },
     "metadata": {
      "needs_background": "light"
     },
     "output_type": "display_data"
    }
   ],
   "source": [
    "# Half the learning rate and double and n_estimators\n",
    "reg_2 = GradientBoostingRegressor(learning_rate=0.05, n_estimators=220, max_depth=5, min_samples_split=32,  \n",
    "                                  subsample=0.8, max_features='sqrt', random_state=10, warm_start=True)\n",
    "model_fit(reg_2, X, y)"
   ]
  },
  {
   "cell_type": "code",
   "execution_count": 56,
   "metadata": {},
   "outputs": [],
   "source": [
    "y_pred = reg_2.predict(test)\n",
    "submission = pd.DataFrame({'Id': test_Id, 'SalePrice': y_pred})\n",
    "submission['SalePrice'] = submission['SalePrice']\n",
    "submission.to_csv('submission-GBM-tuned-2.csv', index=False)"
   ]
  },
  {
   "cell_type": "code",
   "execution_count": null,
   "metadata": {},
   "outputs": [],
   "source": []
  }
 ],
 "metadata": {
  "kernelspec": {
   "display_name": "Python 3",
   "language": "python",
   "name": "python3"
  },
  "language_info": {
   "codemirror_mode": {
    "name": "ipython",
    "version": 3
   },
   "file_extension": ".py",
   "mimetype": "text/x-python",
   "name": "python",
   "nbconvert_exporter": "python",
   "pygments_lexer": "ipython3",
   "version": "3.7.6"
  }
 },
 "nbformat": 4,
 "nbformat_minor": 4
}
